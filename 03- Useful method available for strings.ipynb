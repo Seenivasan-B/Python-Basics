{
 "cells": [
  {
   "cell_type": "markdown",
   "id": "330911b6",
   "metadata": {},
   "source": [
    "## 10 String functions"
   ]
  },
  {
   "cell_type": "markdown",
   "id": "29692c03",
   "metadata": {},
   "source": [
    "#### 1) len()"
   ]
  },
  {
   "cell_type": "markdown",
   "id": "d66b3769",
   "metadata": {},
   "source": [
    "To find the no of letter inside a variable"
   ]
  },
  {
   "cell_type": "code",
   "execution_count": 2,
   "id": "a732d09f",
   "metadata": {},
   "outputs": [],
   "source": [
    "a = 'Arnold'"
   ]
  },
  {
   "cell_type": "code",
   "execution_count": 3,
   "id": "8696d295",
   "metadata": {},
   "outputs": [
    {
     "data": {
      "text/plain": [
       "6"
      ]
     },
     "execution_count": 3,
     "metadata": {},
     "output_type": "execute_result"
    }
   ],
   "source": [
    "len(a)"
   ]
  },
  {
   "cell_type": "markdown",
   "id": "22209703",
   "metadata": {},
   "source": [
    "#### 2) Find()"
   ]
  },
  {
   "cell_type": "markdown",
   "id": "63591dc3",
   "metadata": {},
   "source": [
    "To find the location of the 1st matching letter inside a string."
   ]
  },
  {
   "cell_type": "code",
   "execution_count": 5,
   "id": "2221f1a6",
   "metadata": {},
   "outputs": [
    {
     "data": {
      "text/plain": [
       "3"
      ]
     },
     "execution_count": 5,
     "metadata": {},
     "output_type": "execute_result"
    }
   ],
   "source": [
    "a.find('o')"
   ]
  },
  {
   "cell_type": "markdown",
   "id": "94b8ba18",
   "metadata": {},
   "source": [
    "Here the output is 3 not 4 because the counting starting from 0 not as 1."
   ]
  },
  {
   "cell_type": "markdown",
   "id": "999a2c7c",
   "metadata": {},
   "source": [
    "#### 3) capitalize()"
   ]
  },
  {
   "cell_type": "markdown",
   "id": "ca5ef271",
   "metadata": {},
   "source": [
    "To make the 1st letter of a string to upper case"
   ]
  },
  {
   "cell_type": "code",
   "execution_count": 6,
   "id": "3eef41b9",
   "metadata": {},
   "outputs": [],
   "source": [
    "a = 'arnold'"
   ]
  },
  {
   "cell_type": "code",
   "execution_count": 7,
   "id": "14bac598",
   "metadata": {},
   "outputs": [
    {
     "data": {
      "text/plain": [
       "'arnold'"
      ]
     },
     "execution_count": 7,
     "metadata": {},
     "output_type": "execute_result"
    }
   ],
   "source": [
    "a"
   ]
  },
  {
   "cell_type": "code",
   "execution_count": 8,
   "id": "9fa62030",
   "metadata": {},
   "outputs": [
    {
     "data": {
      "text/plain": [
       "'Arnold'"
      ]
     },
     "execution_count": 8,
     "metadata": {},
     "output_type": "execute_result"
    }
   ],
   "source": [
    "a.capitalize()"
   ]
  },
  {
   "cell_type": "markdown",
   "id": "f4ed869c",
   "metadata": {},
   "source": [
    "#### 4) upper()"
   ]
  },
  {
   "cell_type": "markdown",
   "id": "a2351954",
   "metadata": {},
   "source": [
    "To make every letter inside a variable to upper case"
   ]
  },
  {
   "cell_type": "code",
   "execution_count": 10,
   "id": "66d74634",
   "metadata": {},
   "outputs": [],
   "source": [
    "a = 'arnold'"
   ]
  },
  {
   "cell_type": "code",
   "execution_count": 11,
   "id": "bf53e3f3",
   "metadata": {},
   "outputs": [
    {
     "data": {
      "text/plain": [
       "'arnold'"
      ]
     },
     "execution_count": 11,
     "metadata": {},
     "output_type": "execute_result"
    }
   ],
   "source": [
    "a"
   ]
  },
  {
   "cell_type": "code",
   "execution_count": 12,
   "id": "eaa35516",
   "metadata": {},
   "outputs": [
    {
     "data": {
      "text/plain": [
       "'ARNOLD'"
      ]
     },
     "execution_count": 12,
     "metadata": {},
     "output_type": "execute_result"
    }
   ],
   "source": [
    "a.upper()"
   ]
  },
  {
   "cell_type": "markdown",
   "id": "a31f4d02",
   "metadata": {},
   "source": [
    "#### 5) lower()"
   ]
  },
  {
   "cell_type": "markdown",
   "id": "28471c9d",
   "metadata": {},
   "source": [
    "To make every letter inside a variable to lower case"
   ]
  },
  {
   "cell_type": "code",
   "execution_count": 13,
   "id": "f261d4d9",
   "metadata": {},
   "outputs": [],
   "source": [
    "a = 'ARNOLD'"
   ]
  },
  {
   "cell_type": "code",
   "execution_count": 14,
   "id": "5cb84335",
   "metadata": {},
   "outputs": [
    {
     "data": {
      "text/plain": [
       "'ARNOLD'"
      ]
     },
     "execution_count": 14,
     "metadata": {},
     "output_type": "execute_result"
    }
   ],
   "source": [
    "a"
   ]
  },
  {
   "cell_type": "code",
   "execution_count": 15,
   "id": "bfe336e8",
   "metadata": {},
   "outputs": [
    {
     "data": {
      "text/plain": [
       "'arnold'"
      ]
     },
     "execution_count": 15,
     "metadata": {},
     "output_type": "execute_result"
    }
   ],
   "source": [
    "a.lower()"
   ]
  },
  {
   "cell_type": "markdown",
   "id": "fde4d08e",
   "metadata": {},
   "source": [
    "#### 6) isdigit()"
   ]
  },
  {
   "cell_type": "markdown",
   "id": "28665638",
   "metadata": {},
   "source": [
    "To check if all the values inside the variable contain numerical value ie., int or float."
   ]
  },
  {
   "cell_type": "code",
   "execution_count": 16,
   "id": "5cb4a70e",
   "metadata": {},
   "outputs": [],
   "source": [
    "a = '123'"
   ]
  },
  {
   "cell_type": "code",
   "execution_count": 17,
   "id": "adb33fad",
   "metadata": {},
   "outputs": [
    {
     "data": {
      "text/plain": [
       "'123'"
      ]
     },
     "execution_count": 17,
     "metadata": {},
     "output_type": "execute_result"
    }
   ],
   "source": [
    "a"
   ]
  },
  {
   "cell_type": "code",
   "execution_count": 18,
   "id": "4a188752",
   "metadata": {},
   "outputs": [
    {
     "data": {
      "text/plain": [
       "True"
      ]
     },
     "execution_count": 18,
     "metadata": {},
     "output_type": "execute_result"
    }
   ],
   "source": [
    "a.isdigit()"
   ]
  },
  {
   "cell_type": "code",
   "execution_count": 19,
   "id": "9c97f035",
   "metadata": {},
   "outputs": [],
   "source": [
    "b = 'Arnold'"
   ]
  },
  {
   "cell_type": "code",
   "execution_count": 20,
   "id": "3c5521b8",
   "metadata": {},
   "outputs": [
    {
     "data": {
      "text/plain": [
       "False"
      ]
     },
     "execution_count": 20,
     "metadata": {},
     "output_type": "execute_result"
    }
   ],
   "source": [
    "b.isdigit()"
   ]
  },
  {
   "cell_type": "code",
   "execution_count": 21,
   "id": "aa1365a7",
   "metadata": {},
   "outputs": [],
   "source": [
    "c = \"Arnold123\""
   ]
  },
  {
   "cell_type": "code",
   "execution_count": 22,
   "id": "cdafb618",
   "metadata": {},
   "outputs": [
    {
     "data": {
      "text/plain": [
       "False"
      ]
     },
     "execution_count": 22,
     "metadata": {},
     "output_type": "execute_result"
    }
   ],
   "source": [
    "c.isdigit()"
   ]
  },
  {
   "cell_type": "markdown",
   "id": "c885ec1a",
   "metadata": {},
   "source": [
    "#### 7) isalpha()"
   ]
  },
  {
   "cell_type": "markdown",
   "id": "a68ab77f",
   "metadata": {},
   "source": [
    "To check if all the values inside the variable contain alphabetic value ie., string."
   ]
  },
  {
   "cell_type": "code",
   "execution_count": 23,
   "id": "ec476c5e",
   "metadata": {},
   "outputs": [],
   "source": [
    "a = 'Arnold'"
   ]
  },
  {
   "cell_type": "code",
   "execution_count": 24,
   "id": "8002b965",
   "metadata": {},
   "outputs": [
    {
     "data": {
      "text/plain": [
       "True"
      ]
     },
     "execution_count": 24,
     "metadata": {},
     "output_type": "execute_result"
    }
   ],
   "source": [
    "a.isalpha()"
   ]
  },
  {
   "cell_type": "code",
   "execution_count": 25,
   "id": "6af92d9e",
   "metadata": {},
   "outputs": [],
   "source": [
    "b = '123'"
   ]
  },
  {
   "cell_type": "code",
   "execution_count": 26,
   "id": "f1876b1b",
   "metadata": {},
   "outputs": [
    {
     "data": {
      "text/plain": [
       "False"
      ]
     },
     "execution_count": 26,
     "metadata": {},
     "output_type": "execute_result"
    }
   ],
   "source": [
    "b.isalpha()"
   ]
  },
  {
   "cell_type": "markdown",
   "id": "bf6b5ba1",
   "metadata": {},
   "source": [
    "#### 8) count()"
   ]
  },
  {
   "cell_type": "markdown",
   "id": "883738fd",
   "metadata": {},
   "source": [
    "To count the no of specific character inside the variable "
   ]
  },
  {
   "cell_type": "code",
   "execution_count": 31,
   "id": "6ef82dea",
   "metadata": {},
   "outputs": [],
   "source": [
    "a = 'arnold'"
   ]
  },
  {
   "cell_type": "code",
   "execution_count": 32,
   "id": "58522519",
   "metadata": {},
   "outputs": [
    {
     "data": {
      "text/plain": [
       "1"
      ]
     },
     "execution_count": 32,
     "metadata": {},
     "output_type": "execute_result"
    }
   ],
   "source": [
    "a.count(\"a\")"
   ]
  },
  {
   "cell_type": "code",
   "execution_count": 33,
   "id": "55b93151",
   "metadata": {},
   "outputs": [
    {
     "data": {
      "text/plain": [
       "0"
      ]
     },
     "execution_count": 33,
     "metadata": {},
     "output_type": "execute_result"
    }
   ],
   "source": [
    "a.count(\"z\")"
   ]
  },
  {
   "cell_type": "markdown",
   "id": "60d6fd2d",
   "metadata": {},
   "source": [
    "#### 9) replace()"
   ]
  },
  {
   "cell_type": "markdown",
   "id": "f7e5561b",
   "metadata": {},
   "source": [
    "To replace a specific character inside a variable."
   ]
  },
  {
   "cell_type": "code",
   "execution_count": 34,
   "id": "7e499254",
   "metadata": {},
   "outputs": [],
   "source": [
    "a = 'arnold'"
   ]
  },
  {
   "cell_type": "code",
   "execution_count": 35,
   "id": "61d819cb",
   "metadata": {},
   "outputs": [
    {
     "data": {
      "text/plain": [
       "'zrnold'"
      ]
     },
     "execution_count": 35,
     "metadata": {},
     "output_type": "execute_result"
    }
   ],
   "source": [
    "a.replace(\"a\",\"z\")"
   ]
  },
  {
   "cell_type": "markdown",
   "id": "63abb030",
   "metadata": {},
   "source": [
    "#### s10) String multiplication"
   ]
  },
  {
   "cell_type": "markdown",
   "id": "cdb0d42b",
   "metadata": {},
   "source": [
    "We can print a string multiple times using multiplication operator."
   ]
  },
  {
   "cell_type": "code",
   "execution_count": 42,
   "id": "e1304786",
   "metadata": {},
   "outputs": [],
   "source": [
    "a = \"Arnold \""
   ]
  },
  {
   "cell_type": "code",
   "execution_count": 44,
   "id": "a0003dfa",
   "metadata": {},
   "outputs": [
    {
     "data": {
      "text/plain": [
       "'Arnold Arnold Arnold Arnold Arnold '"
      ]
     },
     "execution_count": 44,
     "metadata": {},
     "output_type": "execute_result"
    }
   ],
   "source": [
    "a*5"
   ]
  }
 ],
 "metadata": {
  "kernelspec": {
   "display_name": "Python 3 (ipykernel)",
   "language": "python",
   "name": "python3"
  },
  "language_info": {
   "codemirror_mode": {
    "name": "ipython",
    "version": 3
   },
   "file_extension": ".py",
   "mimetype": "text/x-python",
   "name": "python",
   "nbconvert_exporter": "python",
   "pygments_lexer": "ipython3",
   "version": "3.9.12"
  }
 },
 "nbformat": 4,
 "nbformat_minor": 5
}
