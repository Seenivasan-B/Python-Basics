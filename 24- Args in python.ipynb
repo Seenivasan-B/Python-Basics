{
 "cells": [
  {
   "cell_type": "markdown",
   "id": "8cb4e75e",
   "metadata": {},
   "source": [
    "# 24- *Args in python"
   ]
  },
  {
   "cell_type": "markdown",
   "id": "bc8b310b",
   "metadata": {},
   "source": [
    "Parameter that will pack all arguments into a tuple"
   ]
  },
  {
   "cell_type": "markdown",
   "id": "dbbbeeb1",
   "metadata": {},
   "source": [
    "Useful so that a function can accept a varying amount of arguments"
   ]
  },
  {
   "cell_type": "markdown",
   "id": "bba3782d",
   "metadata": {},
   "source": [
    "### here * is very important"
   ]
  },
  {
   "cell_type": "markdown",
   "id": "3d205f3c",
   "metadata": {},
   "source": [
    "Here we use * as a kind of packing as tuple"
   ]
  },
  {
   "cell_type": "code",
   "execution_count": 1,
   "id": "71b194ea",
   "metadata": {},
   "outputs": [
    {
     "name": "stdout",
     "output_type": "stream",
     "text": [
      "15\n"
     ]
    }
   ],
   "source": [
    "def add(*nums):\n",
    "    sum = 0\n",
    "    for i in nums:\n",
    "        sum = sum + i\n",
    "    return sum\n",
    "\n",
    "print(add(1,2,3,4,5))"
   ]
  },
  {
   "cell_type": "markdown",
   "id": "2f821518",
   "metadata": {},
   "source": [
    "### Here we gave the arguments inside the function as tuple"
   ]
  },
  {
   "cell_type": "code",
   "execution_count": 2,
   "id": "f9aca344",
   "metadata": {},
   "outputs": [
    {
     "name": "stdout",
     "output_type": "stream",
     "text": [
      "14\n"
     ]
    }
   ],
   "source": [
    "def add(*nums):\n",
    "    sum = 0\n",
    "    nums = list(nums)  #converting the tuple into list because tuple is unchangeable\n",
    "    nums[0]=0          #changing the 1st value into 0 form 1\n",
    "    for i in nums:\n",
    "        sum = sum + i\n",
    "    return sum\n",
    "\n",
    "print(add(1,2,3,4,5))"
   ]
  },
  {
   "cell_type": "markdown",
   "id": "ca5a6d2f",
   "metadata": {},
   "source": [
    "Here since we converted the 1st value from 1 to 0.The sum value became 14 instead of 15."
   ]
  }
 ],
 "metadata": {
  "kernelspec": {
   "display_name": "Python 3 (ipykernel)",
   "language": "python",
   "name": "python3"
  },
  "language_info": {
   "codemirror_mode": {
    "name": "ipython",
    "version": 3
   },
   "file_extension": ".py",
   "mimetype": "text/x-python",
   "name": "python",
   "nbconvert_exporter": "python",
   "pygments_lexer": "ipython3",
   "version": "3.9.12"
  }
 },
 "nbformat": 4,
 "nbformat_minor": 5
}
