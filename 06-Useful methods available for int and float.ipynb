{
 "cells": [
  {
   "cell_type": "markdown",
   "id": "839d0ede",
   "metadata": {},
   "source": [
    "# 06-Useful methods available for int and float"
   ]
  },
  {
   "cell_type": "markdown",
   "id": "0645c29f",
   "metadata": {},
   "source": [
    "### abs()"
   ]
  },
  {
   "cell_type": "markdown",
   "id": "d9ba7ea0",
   "metadata": {},
   "source": [
    "abs - absolute value function"
   ]
  },
  {
   "cell_type": "markdown",
   "id": "df8c9e2b",
   "metadata": {},
   "source": [
    "abs will give the modulus value of the given input."
   ]
  },
  {
   "cell_type": "code",
   "execution_count": 1,
   "id": "5f3a983c",
   "metadata": {},
   "outputs": [],
   "source": [
    "a = 100\n",
    "b = -100"
   ]
  },
  {
   "cell_type": "code",
   "execution_count": 2,
   "id": "7fb1be2a",
   "metadata": {},
   "outputs": [
    {
     "data": {
      "text/plain": [
       "100"
      ]
     },
     "execution_count": 2,
     "metadata": {},
     "output_type": "execute_result"
    }
   ],
   "source": [
    "abs(a)"
   ]
  },
  {
   "cell_type": "code",
   "execution_count": 3,
   "id": "6721c7d6",
   "metadata": {},
   "outputs": [
    {
     "data": {
      "text/plain": [
       "100"
      ]
     },
     "execution_count": 3,
     "metadata": {},
     "output_type": "execute_result"
    }
   ],
   "source": [
    "abs(b)"
   ]
  },
  {
   "cell_type": "markdown",
   "id": "69569c3f",
   "metadata": {},
   "source": [
    "### To use the upcoming function we need to import math module"
   ]
  },
  {
   "cell_type": "code",
   "execution_count": 4,
   "id": "75391c62",
   "metadata": {},
   "outputs": [],
   "source": [
    "import math"
   ]
  },
  {
   "cell_type": "markdown",
   "id": "77ff9dea",
   "metadata": {},
   "source": [
    "#### 1. floor()"
   ]
  },
  {
   "cell_type": "markdown",
   "id": "cc1c32dc",
   "metadata": {},
   "source": [
    "To round the given number. Here it will round the value to the existing integer i.e., 4.14 to 4."
   ]
  },
  {
   "cell_type": "code",
   "execution_count": 5,
   "id": "e092b22d",
   "metadata": {},
   "outputs": [],
   "source": [
    "a = 1.9"
   ]
  },
  {
   "cell_type": "code",
   "execution_count": 6,
   "id": "24a397ca",
   "metadata": {},
   "outputs": [
    {
     "data": {
      "text/plain": [
       "1"
      ]
     },
     "execution_count": 6,
     "metadata": {},
     "output_type": "execute_result"
    }
   ],
   "source": [
    "math.floor(a)"
   ]
  },
  {
   "cell_type": "markdown",
   "id": "9008a6ad",
   "metadata": {},
   "source": [
    "#### 2. ceil()"
   ]
  },
  {
   "cell_type": "markdown",
   "id": "0c1cdb55",
   "metadata": {},
   "source": [
    "To round the given number. Here it will round the value to the next integer i.e., 4.14 to 5."
   ]
  },
  {
   "cell_type": "code",
   "execution_count": 7,
   "id": "496818a0",
   "metadata": {},
   "outputs": [],
   "source": [
    "b = 1.1"
   ]
  },
  {
   "cell_type": "code",
   "execution_count": 8,
   "id": "57034144",
   "metadata": {},
   "outputs": [
    {
     "data": {
      "text/plain": [
       "2"
      ]
     },
     "execution_count": 8,
     "metadata": {},
     "output_type": "execute_result"
    }
   ],
   "source": [
    "math.ceil(b)"
   ]
  },
  {
   "cell_type": "markdown",
   "id": "60bb8b3c",
   "metadata": {},
   "source": [
    "#### 3. sqrt()"
   ]
  },
  {
   "cell_type": "markdown",
   "id": "537408ca",
   "metadata": {},
   "source": [
    "To get the square root of the given number."
   ]
  },
  {
   "cell_type": "code",
   "execution_count": 9,
   "id": "96d1274d",
   "metadata": {},
   "outputs": [],
   "source": [
    "c = 4"
   ]
  },
  {
   "cell_type": "code",
   "execution_count": 10,
   "id": "c2edb2a3",
   "metadata": {},
   "outputs": [
    {
     "data": {
      "text/plain": [
       "2.0"
      ]
     },
     "execution_count": 10,
     "metadata": {},
     "output_type": "execute_result"
    }
   ],
   "source": [
    "math.sqrt(c)"
   ]
  },
  {
   "cell_type": "markdown",
   "id": "5854a10c",
   "metadata": {},
   "source": [
    "####  max()"
   ]
  },
  {
   "cell_type": "markdown",
   "id": "f83e92d0",
   "metadata": {},
   "source": [
    "To get the maximum value out of n numbers."
   ]
  },
  {
   "cell_type": "code",
   "execution_count": 11,
   "id": "5409f2af",
   "metadata": {},
   "outputs": [],
   "source": [
    "x,y,z = 1,2,3"
   ]
  },
  {
   "cell_type": "code",
   "execution_count": 12,
   "id": "d371a12c",
   "metadata": {},
   "outputs": [
    {
     "data": {
      "text/plain": [
       "3"
      ]
     },
     "execution_count": 12,
     "metadata": {},
     "output_type": "execute_result"
    }
   ],
   "source": [
    "max(x,y,z)"
   ]
  },
  {
   "cell_type": "markdown",
   "id": "a6b3becc",
   "metadata": {},
   "source": [
    "#### min()"
   ]
  },
  {
   "cell_type": "markdown",
   "id": "a61c3d01",
   "metadata": {},
   "source": [
    "To get the minimum value out of n numbers."
   ]
  },
  {
   "cell_type": "code",
   "execution_count": 13,
   "id": "d482d849",
   "metadata": {},
   "outputs": [],
   "source": [
    "x,y,z = 1,2,3"
   ]
  },
  {
   "cell_type": "code",
   "execution_count": 14,
   "id": "7027c6d2",
   "metadata": {},
   "outputs": [
    {
     "data": {
      "text/plain": [
       "1"
      ]
     },
     "execution_count": 14,
     "metadata": {},
     "output_type": "execute_result"
    }
   ],
   "source": [
    "min(x,y,z)"
   ]
  }
 ],
 "metadata": {
  "kernelspec": {
   "display_name": "Python 3 (ipykernel)",
   "language": "python",
   "name": "python3"
  },
  "language_info": {
   "codemirror_mode": {
    "name": "ipython",
    "version": 3
   },
   "file_extension": ".py",
   "mimetype": "text/x-python",
   "name": "python",
   "nbconvert_exporter": "python",
   "pygments_lexer": "ipython3",
   "version": "3.9.12"
  }
 },
 "nbformat": 4,
 "nbformat_minor": 5
}
