{
 "cells": [
  {
   "cell_type": "markdown",
   "id": "3cf36380",
   "metadata": {},
   "source": [
    "# 25- Kwargs in python"
   ]
  },
  {
   "cell_type": "markdown",
   "id": "06fae034",
   "metadata": {},
   "source": [
    "Parameters that will pack all arguments into a dictionary useful so that a function can accept a varying amount of keyword arguments"
   ]
  },
  {
   "cell_type": "code",
   "execution_count": 1,
   "id": "494e049b",
   "metadata": {},
   "outputs": [
    {
     "name": "stdout",
     "output_type": "stream",
     "text": [
      "Hello Thomas OBE\n"
     ]
    }
   ],
   "source": [
    "def hello(**names):\n",
    "    print(\"Hello \"+names['first']+\" \"+names['last'])\n",
    "hello(first=\"Thomas\",middle=\"Shelby\",last=\"OBE\")"
   ]
  },
  {
   "cell_type": "code",
   "execution_count": 2,
   "id": "f72e1348",
   "metadata": {},
   "outputs": [
    {
     "name": "stdout",
     "output_type": "stream",
     "text": [
      "Hello \n",
      "Thomas\n",
      "Shelby\n",
      "OBE\n"
     ]
    }
   ],
   "source": [
    "def hello(**names):\n",
    "    print(\"Hello \")\n",
    "    for key,values in names.items():\n",
    "        print(values)\n",
    "hello(first=\"Thomas\",middle=\"Shelby\",last=\"OBE\")"
   ]
  },
  {
   "cell_type": "markdown",
   "id": "78f51fba",
   "metadata": {},
   "source": [
    "To print the same in single line"
   ]
  },
  {
   "cell_type": "code",
   "execution_count": 3,
   "id": "b8f22e2f",
   "metadata": {},
   "outputs": [
    {
     "name": "stdout",
     "output_type": "stream",
     "text": [
      "Hello Thomas Shelby OBE "
     ]
    }
   ],
   "source": [
    "def hello(**names):\n",
    "    print(\"Hello\",end=\" \")\n",
    "    for key,values in names.items():\n",
    "        print(values,end=\" \")\n",
    "hello(first=\"Thomas\",middle=\"Shelby\",last=\"OBE\")"
   ]
  },
  {
   "cell_type": "markdown",
   "id": "5bb8d951",
   "metadata": {},
   "source": [
    "### adding more arguments"
   ]
  },
  {
   "cell_type": "code",
   "execution_count": 4,
   "id": "a233ce2a",
   "metadata": {},
   "outputs": [
    {
     "name": "stdout",
     "output_type": "stream",
     "text": [
      "Hello Mr. Thomas Shelby OBE "
     ]
    }
   ],
   "source": [
    "def hello(**names):\n",
    "    print(\"Hello\",end=\" \")\n",
    "    for key,values in names.items():\n",
    "        print(values,end=\" \")\n",
    "hello(title = \"Mr.\",first=\"Thomas\",middle=\"Shelby\",last=\"OBE\")"
   ]
  }
 ],
 "metadata": {
  "kernelspec": {
   "display_name": "Python 3 (ipykernel)",
   "language": "python",
   "name": "python3"
  },
  "language_info": {
   "codemirror_mode": {
    "name": "ipython",
    "version": 3
   },
   "file_extension": ".py",
   "mimetype": "text/x-python",
   "name": "python",
   "nbconvert_exporter": "python",
   "pygments_lexer": "ipython3",
   "version": "3.9.12"
  }
 },
 "nbformat": 4,
 "nbformat_minor": 5
}
