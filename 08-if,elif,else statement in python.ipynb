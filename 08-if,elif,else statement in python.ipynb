{
 "cells": [
  {
   "cell_type": "markdown",
   "id": "a85e5ea9",
   "metadata": {},
   "source": [
    "# 08-if,elif,else statement in python"
   ]
  },
  {
   "cell_type": "markdown",
   "id": "d448cb61",
   "metadata": {},
   "source": [
    "if statememt - A block of code that will execute if it's condittion is true."
   ]
  },
  {
   "cell_type": "code",
   "execution_count": 1,
   "id": "82507e93",
   "metadata": {},
   "outputs": [
    {
     "name": "stdout",
     "output_type": "stream",
     "text": [
      "Enter your age : 21\n"
     ]
    }
   ],
   "source": [
    "age = int(input(\"Enter your age : \"))"
   ]
  },
  {
   "cell_type": "markdown",
   "id": "4bdd8452",
   "metadata": {},
   "source": [
    "### If else statement"
   ]
  },
  {
   "cell_type": "code",
   "execution_count": 2,
   "id": "e913b80f",
   "metadata": {},
   "outputs": [
    {
     "name": "stdout",
     "output_type": "stream",
     "text": [
      "You are an adult\n"
     ]
    }
   ],
   "source": [
    "if age>=18:\n",
    "    print(\"You are an adult\")\n",
    "else:\n",
    "    print(\"You are a child\")"
   ]
  },
  {
   "cell_type": "markdown",
   "id": "3bba6829",
   "metadata": {},
   "source": [
    "### If elif and else statement"
   ]
  },
  {
   "cell_type": "code",
   "execution_count": 3,
   "id": "52d23621",
   "metadata": {},
   "outputs": [
    {
     "name": "stdout",
     "output_type": "stream",
     "text": [
      "You are an adult\n"
     ]
    }
   ],
   "source": [
    "if age == 100:\n",
    "    print(\"You are a century old\")\n",
    "elif age>=18:\n",
    "    print(\"You are an adult\")\n",
    "elif age<0:\n",
    "    print(\"You haven't born yet\")\n",
    "else:\n",
    "    print(\"You are a child\")"
   ]
  },
  {
   "cell_type": "markdown",
   "id": "fc677b8a",
   "metadata": {},
   "source": [
    "#### Note"
   ]
  },
  {
   "cell_type": "markdown",
   "id": "78977e89",
   "metadata": {},
   "source": [
    " if age == 100"
   ]
  },
  {
   "cell_type": "markdown",
   "id": "a6b282c2",
   "metadata": {},
   "source": [
    "Here it is an operator which tries to compare if age is equal to 100."
   ]
  },
  {
   "cell_type": "markdown",
   "id": "776c0884",
   "metadata": {},
   "source": [
    "if age = 100"
   ]
  },
  {
   "cell_type": "markdown",
   "id": "e71a9a46",
   "metadata": {},
   "source": [
    "Here we are trying to assign the value 100 to the variable age. So if we try to execute this code it will give us error."
   ]
  }
 ],
 "metadata": {
  "kernelspec": {
   "display_name": "Python 3 (ipykernel)",
   "language": "python",
   "name": "python3"
  },
  "language_info": {
   "codemirror_mode": {
    "name": "ipython",
    "version": 3
   },
   "file_extension": ".py",
   "mimetype": "text/x-python",
   "name": "python",
   "nbconvert_exporter": "python",
   "pygments_lexer": "ipython3",
   "version": "3.9.12"
  }
 },
 "nbformat": 4,
 "nbformat_minor": 5
}
