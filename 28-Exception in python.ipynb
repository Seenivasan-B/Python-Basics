{
 "cells": [
  {
   "cell_type": "markdown",
   "id": "370a5588",
   "metadata": {},
   "source": [
    "# 28-Exception in python"
   ]
  },
  {
   "cell_type": "markdown",
   "id": "a1f550f3",
   "metadata": {},
   "source": [
    "Events detected during execution that interrupt the flow of a program"
   ]
  },
  {
   "cell_type": "code",
   "execution_count": 1,
   "id": "0ed31321",
   "metadata": {},
   "outputs": [
    {
     "name": "stdout",
     "output_type": "stream",
     "text": [
      "Enter the numerator :1\n",
      "Enter the denominator : 0\n",
      "Something went wrong :(\n"
     ]
    }
   ],
   "source": [
    "try:\n",
    "    nume = int(input(\"Enter the numerator :\"))\n",
    "    deno = int(input(\"Enter the denominator : \"))\n",
    "    value = nume/deno\n",
    "    print(value)\n",
    "except Exception:\n",
    "    print(\"Something went wrong :(\")"
   ]
  },
  {
   "cell_type": "code",
   "execution_count": 2,
   "id": "b2a0724f",
   "metadata": {},
   "outputs": [
    {
     "name": "stdout",
     "output_type": "stream",
     "text": [
      "Enter the numerator :1\n",
      "Enter the denominator : denominator\n",
      "Enter only numbers\n"
     ]
    }
   ],
   "source": [
    "try:\n",
    "    nume = int(input(\"Enter the numerator :\"))\n",
    "    deno = int(input(\"Enter the denominator : \"))\n",
    "    value = nume/deno\n",
    "    print(value)\n",
    "except ZeroDivisionError:\n",
    "    print(\"Divide by zero is not possible\")\n",
    "except ValueError:\n",
    "    print(\"Enter only numbers\")\n",
    "except Exception:\n",
    "    print(\"Something went wrong :(\")"
   ]
  },
  {
   "cell_type": "code",
   "execution_count": 3,
   "id": "9a7a7630",
   "metadata": {},
   "outputs": [
    {
     "name": "stdout",
     "output_type": "stream",
     "text": [
      "Enter the numerator :1\n",
      "Enter the denominator : 0\n",
      "division by zero\n",
      "Divide by zero is not possible\n",
      "This statement will always be printed at the end\n"
     ]
    }
   ],
   "source": [
    "try:\n",
    "    nume = int(input(\"Enter the numerator :\"))\n",
    "    deno = int(input(\"Enter the denominator : \"))\n",
    "    value = nume/deno\n",
    "    print(value)\n",
    "    \n",
    "except ZeroDivisionError as e:\n",
    "  print(e)\n",
    "  print(\"Divide by zero is not possible\")\n",
    "except ValueError as e:\n",
    "  print(e)\n",
    "  print(\"Enter only numbers\")\n",
    "except Exception as e:\n",
    "  print(e)\n",
    "  print(\"Something went wrong :(\")\n",
    "else:\n",
    "  print(results)\n",
    "finally:\n",
    "  print(\"This statement will always be printed at the end\")"
   ]
  }
 ],
 "metadata": {
  "kernelspec": {
   "display_name": "Python 3 (ipykernel)",
   "language": "python",
   "name": "python3"
  },
  "language_info": {
   "codemirror_mode": {
    "name": "ipython",
    "version": 3
   },
   "file_extension": ".py",
   "mimetype": "text/x-python",
   "name": "python",
   "nbconvert_exporter": "python",
   "pygments_lexer": "ipython3",
   "version": "3.9.12"
  }
 },
 "nbformat": 4,
 "nbformat_minor": 5
}
