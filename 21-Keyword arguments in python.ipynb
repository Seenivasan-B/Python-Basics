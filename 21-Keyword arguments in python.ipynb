{
 "cells": [
  {
   "cell_type": "markdown",
   "id": "d1230ac7",
   "metadata": {},
   "source": [
    "#  21 Keyword arguments in python"
   ]
  },
  {
   "cell_type": "markdown",
   "id": "f61b0d1b",
   "metadata": {},
   "source": [
    "Arguments preceded by an identifier when we pass them to a function."
   ]
  },
  {
   "cell_type": "markdown",
   "id": "db6c9883",
   "metadata": {},
   "source": [
    "The order of the arguments doesn't matter, unlike positional arguments."
   ]
  },
  {
   "cell_type": "markdown",
   "id": "02153ebe",
   "metadata": {},
   "source": [
    "Python knows the names of the arguments that our function receives."
   ]
  },
  {
   "cell_type": "code",
   "execution_count": 1,
   "id": "2a628f63",
   "metadata": {},
   "outputs": [
    {
     "name": "stdout",
     "output_type": "stream",
     "text": [
      "Hello Thomas Shelby OBE\n"
     ]
    }
   ],
   "source": [
    "def hello(first,middle,last):\n",
    "    print(\"Hello \"+first+\" \"+middle+\" \" +last)\n",
    "hello(\"Thomas\",\"Shelby\",\"OBE\")"
   ]
  },
  {
   "cell_type": "code",
   "execution_count": 2,
   "id": "f663f7cf",
   "metadata": {},
   "outputs": [
    {
     "name": "stdout",
     "output_type": "stream",
     "text": [
      "Hello OBE Shelby Thomas\n"
     ]
    }
   ],
   "source": [
    "def hello(first,middle,last):\n",
    "    print(\"Hello \"+first+\" \"+middle+\" \" +last)\n",
    "hello(\"OBE\",\"Shelby\",\"Thomas\")"
   ]
  },
  {
   "cell_type": "markdown",
   "id": "7e2465b6",
   "metadata": {},
   "source": [
    "Here the variables are assigned in the order as defined in the function but we can change the order using keyword arguments"
   ]
  },
  {
   "cell_type": "code",
   "execution_count": 3,
   "id": "89e1a4c9",
   "metadata": {},
   "outputs": [
    {
     "name": "stdout",
     "output_type": "stream",
     "text": [
      "Hello Thomas Shelby OBE\n"
     ]
    }
   ],
   "source": [
    "def hello(first,middle,last):\n",
    "    print(\"Hello \"+first+\" \"+middle+\" \" +last)\n",
    "hello(last=\"OBE\",middle=\"Shelby\",first=\"Thomas\")"
   ]
  }
 ],
 "metadata": {
  "kernelspec": {
   "display_name": "Python 3 (ipykernel)",
   "language": "python",
   "name": "python3"
  },
  "language_info": {
   "codemirror_mode": {
    "name": "ipython",
    "version": 3
   },
   "file_extension": ".py",
   "mimetype": "text/x-python",
   "name": "python",
   "nbconvert_exporter": "python",
   "pygments_lexer": "ipython3",
   "version": "3.9.12"
  }
 },
 "nbformat": 4,
 "nbformat_minor": 5
}
