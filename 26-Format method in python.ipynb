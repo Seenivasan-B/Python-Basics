{
 "cells": [
  {
   "cell_type": "markdown",
   "id": "d6611b5a",
   "metadata": {},
   "source": [
    "# 26-Format method in python"
   ]
  },
  {
   "cell_type": "markdown",
   "id": "686847d1",
   "metadata": {},
   "source": [
    "str.format() - optional method that gives users more control when displaying output."
   ]
  },
  {
   "cell_type": "code",
   "execution_count": 1,
   "id": "7ae5d61a",
   "metadata": {},
   "outputs": [
    {
     "name": "stdout",
     "output_type": "stream",
     "text": [
      "Arnold is from Austria\n"
     ]
    }
   ],
   "source": [
    "name = 'Arnold'\n",
    "place = 'Austria'\n",
    "\n",
    "print(name+\" is from \"+place)"
   ]
  },
  {
   "cell_type": "code",
   "execution_count": 2,
   "id": "02238554",
   "metadata": {},
   "outputs": [
    {
     "name": "stdout",
     "output_type": "stream",
     "text": [
      "arnold is from austria\n"
     ]
    }
   ],
   "source": [
    "name = 'Arnold'\n",
    "place = 'Austria'\n",
    "\n",
    "print(\"{} is from {}\".format(\"arnold\",\"austria\"))"
   ]
  },
  {
   "cell_type": "markdown",
   "id": "b79c7019",
   "metadata": {},
   "source": [
    "Here the print statement took the value from the .format function."
   ]
  },
  {
   "cell_type": "code",
   "execution_count": 3,
   "id": "7a4912e6",
   "metadata": {},
   "outputs": [
    {
     "name": "stdout",
     "output_type": "stream",
     "text": [
      "Arnold is from Austria\n"
     ]
    }
   ],
   "source": [
    "name = 'Arnold'\n",
    "place = 'Austria'\n",
    "\n",
    "print(\"{} is from {}\".format(name,place))"
   ]
  },
  {
   "cell_type": "markdown",
   "id": "9e575b3f",
   "metadata": {},
   "source": [
    "#### Positional Arguments"
   ]
  },
  {
   "cell_type": "code",
   "execution_count": 4,
   "id": "a413142f",
   "metadata": {},
   "outputs": [
    {
     "name": "stdout",
     "output_type": "stream",
     "text": [
      "Arnold is from Austria\n",
      "Arnold is from Austria\n"
     ]
    }
   ],
   "source": [
    "name = 'Arnold'\n",
    "place = 'Austria'\n",
    "\n",
    "print(\"{0} is from {1}\".format(name,place))\n",
    "print(\"{1} is from {0}\".format(place,name))"
   ]
  },
  {
   "cell_type": "markdown",
   "id": "fc75641b",
   "metadata": {},
   "source": [
    "#### keyword arguments"
   ]
  },
  {
   "cell_type": "code",
   "execution_count": 5,
   "id": "f7979bb9",
   "metadata": {},
   "outputs": [
    {
     "name": "stdout",
     "output_type": "stream",
     "text": [
      "Arnold is from Austria\n"
     ]
    }
   ],
   "source": [
    "name = 'Arnold'\n",
    "place = 'Austria'\n",
    "\n",
    "print(\"{name} is from {place}\".format(name=\"Arnold\",place=\"Austria\"))"
   ]
  },
  {
   "cell_type": "code",
   "execution_count": 6,
   "id": "196a3fb4",
   "metadata": {},
   "outputs": [
    {
     "name": "stdout",
     "output_type": "stream",
     "text": [
      "Arnold is from Austria\n"
     ]
    }
   ],
   "source": [
    "name = 'Arnold'\n",
    "place = 'Austria'\n",
    "\n",
    "text = \"{} is from {}\"\n",
    "print(text.format(name,place))"
   ]
  },
  {
   "cell_type": "code",
   "execution_count": 7,
   "id": "060ee033",
   "metadata": {},
   "outputs": [
    {
     "name": "stdout",
     "output_type": "stream",
     "text": [
      "Hello my name is Arnold\n"
     ]
    }
   ],
   "source": [
    "name = \"Arnold\"\n",
    "print(\"Hello my name is {}\".format(name))"
   ]
  },
  {
   "cell_type": "markdown",
   "id": "5f7bb446",
   "metadata": {},
   "source": [
    "#### Alignments"
   ]
  },
  {
   "cell_type": "code",
   "execution_count": 8,
   "id": "3485e43b",
   "metadata": {},
   "outputs": [
    {
     "name": "stdout",
     "output_type": "stream",
     "text": [
      "Hello my name is Arnold    .Nice to meet you\n"
     ]
    }
   ],
   "source": [
    "name = \"Arnold\"\n",
    "print(\"Hello my name is {:10}.Nice to meet you\".format(name))"
   ]
  },
  {
   "cell_type": "markdown",
   "id": "de14512a",
   "metadata": {},
   "source": [
    "#### Left Alignment"
   ]
  },
  {
   "cell_type": "code",
   "execution_count": 9,
   "id": "d6ca41b9",
   "metadata": {},
   "outputs": [
    {
     "name": "stdout",
     "output_type": "stream",
     "text": [
      "Hello my name is Arnold    .Nice to meet you\n"
     ]
    }
   ],
   "source": [
    "name = \"Arnold\"\n",
    "print(\"Hello my name is {:<10}.Nice to meet you\".format(name))"
   ]
  },
  {
   "cell_type": "markdown",
   "id": "7e766220",
   "metadata": {},
   "source": [
    "#### Right Alignment"
   ]
  },
  {
   "cell_type": "code",
   "execution_count": 10,
   "id": "61f2ffd3",
   "metadata": {},
   "outputs": [
    {
     "name": "stdout",
     "output_type": "stream",
     "text": [
      "Hello my name is     Arnold.Nice to meet you\n"
     ]
    }
   ],
   "source": [
    "name = \"Arnold\"\n",
    "print(\"Hello my name is {:>10}.Nice to meet you\".format(name))"
   ]
  },
  {
   "cell_type": "markdown",
   "id": "d84a1d7e",
   "metadata": {},
   "source": [
    "#### Centre Alignment"
   ]
  },
  {
   "cell_type": "code",
   "execution_count": 11,
   "id": "85deabfa",
   "metadata": {},
   "outputs": [
    {
     "name": "stdout",
     "output_type": "stream",
     "text": [
      "Hello my name is   Arnold  .Nice to meet you\n"
     ]
    }
   ],
   "source": [
    "name = \"Arnold\"\n",
    "print(\"Hello my name is {:^10}.Nice to meet you\".format(name))"
   ]
  },
  {
   "cell_type": "markdown",
   "id": "dd81be69",
   "metadata": {},
   "source": [
    "The keyword or the position argument will go before the colon"
   ]
  },
  {
   "cell_type": "markdown",
   "id": "22920f5f",
   "metadata": {},
   "source": [
    "##### E.x: {0:^10}      ,         {name:^10}"
   ]
  },
  {
   "cell_type": "markdown",
   "id": "2e6cb946",
   "metadata": {},
   "source": [
    "## Numbers"
   ]
  },
  {
   "cell_type": "markdown",
   "id": "29f83d6f",
   "metadata": {},
   "source": [
    "#### 2 decimal places"
   ]
  },
  {
   "cell_type": "code",
   "execution_count": 12,
   "id": "a5c2e067",
   "metadata": {},
   "outputs": [
    {
     "name": "stdout",
     "output_type": "stream",
     "text": [
      "The number is 123.46\n"
     ]
    }
   ],
   "source": [
    "number = 123.456789\n",
    "print(\"The number is {:.2f}\".format(number))"
   ]
  },
  {
   "cell_type": "markdown",
   "id": "a50dccbb",
   "metadata": {},
   "source": [
    "#### To add a comma at the thousands palce"
   ]
  },
  {
   "cell_type": "code",
   "execution_count": 13,
   "id": "68027651",
   "metadata": {},
   "outputs": [
    {
     "name": "stdout",
     "output_type": "stream",
     "text": [
      "The number is 123,456\n"
     ]
    }
   ],
   "source": [
    "number = 123456\n",
    "print(\"The number is {:,}\".format(number))"
   ]
  },
  {
   "cell_type": "markdown",
   "id": "0146a5f1",
   "metadata": {},
   "source": [
    "#### To display binary"
   ]
  },
  {
   "cell_type": "code",
   "execution_count": 14,
   "id": "7d5a3b14",
   "metadata": {},
   "outputs": [
    {
     "name": "stdout",
     "output_type": "stream",
     "text": [
      "The number is 11110001001000000\n"
     ]
    }
   ],
   "source": [
    "number = 123456\n",
    "print(\"The number is {:b}\".format(number))"
   ]
  },
  {
   "cell_type": "markdown",
   "id": "348e7568",
   "metadata": {},
   "source": [
    "#### To display octal number"
   ]
  },
  {
   "cell_type": "code",
   "execution_count": 15,
   "id": "f10325ea",
   "metadata": {},
   "outputs": [
    {
     "name": "stdout",
     "output_type": "stream",
     "text": [
      "The number is 361100\n"
     ]
    }
   ],
   "source": [
    "number = 123456\n",
    "print(\"The number is {:o}\".format(number))"
   ]
  },
  {
   "cell_type": "markdown",
   "id": "fa1a20b5",
   "metadata": {},
   "source": [
    "#### To display the hexadecimal"
   ]
  },
  {
   "cell_type": "code",
   "execution_count": 16,
   "id": "10a7e6c9",
   "metadata": {},
   "outputs": [
    {
     "name": "stdout",
     "output_type": "stream",
     "text": [
      "The number is 1e240\n"
     ]
    }
   ],
   "source": [
    "number = 123456\n",
    "print(\"The number is {:x}\".format(number))"
   ]
  },
  {
   "cell_type": "code",
   "execution_count": 17,
   "id": "76677184",
   "metadata": {},
   "outputs": [
    {
     "name": "stdout",
     "output_type": "stream",
     "text": [
      "The number is 1E240\n"
     ]
    }
   ],
   "source": [
    "number = 123456\n",
    "print(\"The number is {:X}\".format(number))"
   ]
  },
  {
   "cell_type": "markdown",
   "id": "9e947249",
   "metadata": {},
   "source": [
    "#### To display scientific notation"
   ]
  },
  {
   "cell_type": "code",
   "execution_count": 18,
   "id": "d5684035",
   "metadata": {},
   "outputs": [
    {
     "name": "stdout",
     "output_type": "stream",
     "text": [
      "The number is 1.234560e+05\n"
     ]
    }
   ],
   "source": [
    "number = 123456\n",
    "print(\"The number is {:e}\".format(number))"
   ]
  },
  {
   "cell_type": "code",
   "execution_count": 19,
   "id": "0c301bd7",
   "metadata": {},
   "outputs": [
    {
     "name": "stdout",
     "output_type": "stream",
     "text": [
      "The number is 1.234560E+05\n"
     ]
    }
   ],
   "source": [
    "number = 123456\n",
    "print(\"The number is {:E}\".format(number))"
   ]
  }
 ],
 "metadata": {
  "kernelspec": {
   "display_name": "Python 3 (ipykernel)",
   "language": "python",
   "name": "python3"
  },
  "language_info": {
   "codemirror_mode": {
    "name": "ipython",
    "version": 3
   },
   "file_extension": ".py",
   "mimetype": "text/x-python",
   "name": "python",
   "nbconvert_exporter": "python",
   "pygments_lexer": "ipython3",
   "version": "3.9.12"
  }
 },
 "nbformat": 4,
 "nbformat_minor": 5
}
