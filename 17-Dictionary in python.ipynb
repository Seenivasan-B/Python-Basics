{
 "cells": [
  {
   "cell_type": "markdown",
   "id": "18c08b7f",
   "metadata": {},
   "source": [
    "# 17-Dictionary in python"
   ]
  },
  {
   "cell_type": "markdown",
   "id": "0ad65ac6",
   "metadata": {},
   "source": [
    "##### A changeable, unordered collection of unique key : value pairs."
   ]
  },
  {
   "cell_type": "markdown",
   "id": "c35bcd2d",
   "metadata": {},
   "source": [
    "fast because they uses hashing which allow us to access a value quickly."
   ]
  },
  {
   "cell_type": "markdown",
   "id": "81281787",
   "metadata": {},
   "source": [
    "here the datatype of the key : value pair doesn't matter"
   ]
  },
  {
   "cell_type": "markdown",
   "id": "f3d45931",
   "metadata": {},
   "source": [
    "which means that the the dtype of key can be of any data type like int,str,boolean etc., the values dtype didn't need to be of the same type as key."
   ]
  },
  {
   "cell_type": "markdown",
   "id": "3c270893",
   "metadata": {},
   "source": [
    " ex : {'age' : 25}"
   ]
  },
  {
   "cell_type": "code",
   "execution_count": 1,
   "id": "6b865744",
   "metadata": {},
   "outputs": [
    {
     "data": {
      "text/plain": [
       "{'USA': 'Washington DC',\n",
       " 'India': 'Delhi',\n",
       " 'china': 'Beiging',\n",
       " 'Russia': 'Moscow'}"
      ]
     },
     "execution_count": 1,
     "metadata": {},
     "output_type": "execute_result"
    }
   ],
   "source": [
    "capitals = {'USA':'Washington DC','India':'Delhi','china':'Beiging','Russia':'Moscow'}\n",
    "capitals"
   ]
  },
  {
   "cell_type": "markdown",
   "id": "7370778f",
   "metadata": {},
   "source": [
    "#### To print the capital of India"
   ]
  },
  {
   "cell_type": "code",
   "execution_count": 2,
   "id": "b3365aee",
   "metadata": {},
   "outputs": [
    {
     "data": {
      "text/plain": [
       "'Delhi'"
      ]
     },
     "execution_count": 2,
     "metadata": {},
     "output_type": "execute_result"
    }
   ],
   "source": [
    "capitals = {'USA':'Washington DC','India':'Delhi','china':'Beiging','Russia':'Moscow'}\n",
    "\n",
    "capitals['India']"
   ]
  },
  {
   "cell_type": "markdown",
   "id": "e181d5ec",
   "metadata": {},
   "source": [
    "#### To print the key value pairs using for loop"
   ]
  },
  {
   "cell_type": "code",
   "execution_count": 3,
   "id": "cdfff280",
   "metadata": {},
   "outputs": [
    {
     "name": "stdout",
     "output_type": "stream",
     "text": [
      "USA Washington DC\n",
      "India Delhi\n",
      "china Beiging\n",
      "Russia Moscow\n"
     ]
    }
   ],
   "source": [
    "capitals = {'USA':'Washington DC','India':'Delhi','china':'Beiging','Russia':'Moscow'}\n",
    "for key,value in capitals.items():\n",
    "  print(key,value)"
   ]
  },
  {
   "cell_type": "markdown",
   "id": "2bf936ba",
   "metadata": {},
   "source": [
    "Here we need to add .items() at the end of for loop to access the elements inside the dictionary."
   ]
  },
  {
   "cell_type": "markdown",
   "id": "7063a408",
   "metadata": {},
   "source": [
    "### Important function used in dictionary"
   ]
  },
  {
   "cell_type": "markdown",
   "id": "51dcfd68",
   "metadata": {},
   "source": [
    "#### Get"
   ]
  },
  {
   "cell_type": "markdown",
   "id": "46e99fea",
   "metadata": {},
   "source": [
    "To get the value of a key without getting an error."
   ]
  },
  {
   "cell_type": "code",
   "execution_count": 4,
   "id": "b1bee26a",
   "metadata": {},
   "outputs": [
    {
     "name": "stdout",
     "output_type": "stream",
     "text": [
      "None\n"
     ]
    }
   ],
   "source": [
    "capitals = {'USA':'Washington DC','India':'Delhi','china':'Beiging','Russia':'Moscow'}\n",
    "\n",
    "print(capitals.get('Germany'))"
   ]
  },
  {
   "cell_type": "code",
   "execution_count": 5,
   "id": "dd8b22f9",
   "metadata": {},
   "outputs": [
    {
     "ename": "KeyError",
     "evalue": "'Germany'",
     "output_type": "error",
     "traceback": [
      "\u001b[1;31m---------------------------------------------------------------------------\u001b[0m",
      "\u001b[1;31mKeyError\u001b[0m                                  Traceback (most recent call last)",
      "Input \u001b[1;32mIn [5]\u001b[0m, in \u001b[0;36m<cell line: 3>\u001b[1;34m()\u001b[0m\n\u001b[0;32m      1\u001b[0m capitals \u001b[38;5;241m=\u001b[39m {\u001b[38;5;124m'\u001b[39m\u001b[38;5;124mUSA\u001b[39m\u001b[38;5;124m'\u001b[39m:\u001b[38;5;124m'\u001b[39m\u001b[38;5;124mWashington DC\u001b[39m\u001b[38;5;124m'\u001b[39m,\u001b[38;5;124m'\u001b[39m\u001b[38;5;124mIndia\u001b[39m\u001b[38;5;124m'\u001b[39m:\u001b[38;5;124m'\u001b[39m\u001b[38;5;124mDelhi\u001b[39m\u001b[38;5;124m'\u001b[39m,\u001b[38;5;124m'\u001b[39m\u001b[38;5;124mchina\u001b[39m\u001b[38;5;124m'\u001b[39m:\u001b[38;5;124m'\u001b[39m\u001b[38;5;124mBeiging\u001b[39m\u001b[38;5;124m'\u001b[39m,\u001b[38;5;124m'\u001b[39m\u001b[38;5;124mRussia\u001b[39m\u001b[38;5;124m'\u001b[39m:\u001b[38;5;124m'\u001b[39m\u001b[38;5;124mMoscow\u001b[39m\u001b[38;5;124m'\u001b[39m}\n\u001b[1;32m----> 3\u001b[0m \u001b[43mcapitals\u001b[49m\u001b[43m[\u001b[49m\u001b[38;5;124;43m'\u001b[39;49m\u001b[38;5;124;43mGermany\u001b[39;49m\u001b[38;5;124;43m'\u001b[39;49m\u001b[43m]\u001b[49m\n",
      "\u001b[1;31mKeyError\u001b[0m: 'Germany'"
     ]
    }
   ],
   "source": [
    "capitals = {'USA':'Washington DC','India':'Delhi','china':'Beiging','Russia':'Moscow'}\n",
    "\n",
    "capitals['Germany']"
   ]
  },
  {
   "cell_type": "markdown",
   "id": "64fdfeb9",
   "metadata": {},
   "source": [
    "Here if we try to execute capital['Germany'] it will give us error since there is no key named germany.To avoid the error we used get function."
   ]
  },
  {
   "cell_type": "markdown",
   "id": "47eb3442",
   "metadata": {},
   "source": [
    "#### keys"
   ]
  },
  {
   "cell_type": "markdown",
   "id": "61cc1bab",
   "metadata": {},
   "source": [
    "To print all the keys inside the dictionary"
   ]
  },
  {
   "cell_type": "code",
   "execution_count": null,
   "id": "9e7bdd81",
   "metadata": {},
   "outputs": [],
   "source": [
    "capitals = {'USA':'Washington DC','India':'Delhi','china':'Beiging','Russia':'Moscow'}\n",
    "\n",
    "print(capitals.keys())"
   ]
  },
  {
   "cell_type": "markdown",
   "id": "e112eba0",
   "metadata": {},
   "source": [
    "#### Values"
   ]
  },
  {
   "cell_type": "markdown",
   "id": "05c0028f",
   "metadata": {},
   "source": [
    "To print all the values inside the dictionary"
   ]
  },
  {
   "cell_type": "code",
   "execution_count": null,
   "id": "3a08ef26",
   "metadata": {},
   "outputs": [],
   "source": [
    "capitals = {'USA':'Washington DC','India':'Delhi','china':'Beiging','Russia':'Moscow'}\n",
    "\n",
    "print(capitals.values())"
   ]
  },
  {
   "cell_type": "markdown",
   "id": "54848b66",
   "metadata": {},
   "source": [
    "#### Items"
   ]
  },
  {
   "cell_type": "markdown",
   "id": "9741d17b",
   "metadata": {},
   "source": [
    "To print the entire dictionary"
   ]
  },
  {
   "cell_type": "code",
   "execution_count": null,
   "id": "b42ca6b7",
   "metadata": {},
   "outputs": [],
   "source": [
    "capitals = {'USA':'Washington DC','India':'Delhi','china':'Beiging','Russia':'Moscow'}\n",
    "\n",
    "print(capitals.items())"
   ]
  },
  {
   "cell_type": "markdown",
   "id": "39bab2e9",
   "metadata": {},
   "source": [
    "#### Update"
   ]
  },
  {
   "cell_type": "markdown",
   "id": "71b8ffb3",
   "metadata": {},
   "source": [
    " To add a new item inside a dictionary"
   ]
  },
  {
   "cell_type": "code",
   "execution_count": null,
   "id": "ad103eeb",
   "metadata": {},
   "outputs": [],
   "source": [
    "capitals = {'USA':'Washington DC','India':'Delhi','china':'Beiging','Russia':'Moscow'}\n",
    "\n",
    "capitals.update({'Germany':'Berlin'})\n",
    "print(capitals)"
   ]
  },
  {
   "cell_type": "markdown",
   "id": "cb9ee9aa",
   "metadata": {},
   "source": [
    "To update an existing value inside a dictionary"
   ]
  },
  {
   "cell_type": "code",
   "execution_count": null,
   "id": "a2dec2d2",
   "metadata": {},
   "outputs": [],
   "source": [
    "capitals = {'USA':'Washington DC','India':'Delhi','china':'Beiging','Russia':'Moscow'}\n",
    "\n",
    "capitals.update({'USA':'Las Vegas'})\n",
    "print(capitals)"
   ]
  }
 ],
 "metadata": {
  "kernelspec": {
   "display_name": "Python 3 (ipykernel)",
   "language": "python",
   "name": "python3"
  },
  "language_info": {
   "codemirror_mode": {
    "name": "ipython",
    "version": 3
   },
   "file_extension": ".py",
   "mimetype": "text/x-python",
   "name": "python",
   "nbconvert_exporter": "python",
   "pygments_lexer": "ipython3",
   "version": "3.9.12"
  }
 },
 "nbformat": 4,
 "nbformat_minor": 5
}
