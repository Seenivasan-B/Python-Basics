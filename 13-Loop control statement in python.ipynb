{
 "cells": [
  {
   "cell_type": "markdown",
   "id": "4484893e",
   "metadata": {},
   "source": [
    "# 13-Loop control statement in python"
   ]
  },
  {
   "cell_type": "markdown",
   "id": "a233c3cc",
   "metadata": {},
   "source": [
    "change a loop execution from its normal sequences"
   ]
  },
  {
   "cell_type": "markdown",
   "id": "90f56598",
   "metadata": {},
   "source": [
    "##### Break - used to terminate the loop entirely"
   ]
  },
  {
   "cell_type": "markdown",
   "id": "a0798640",
   "metadata": {},
   "source": [
    "##### Continue - skips to the next iteration of the loop"
   ]
  },
  {
   "cell_type": "markdown",
   "id": "8394c583",
   "metadata": {},
   "source": [
    "##### Pass - does nothing acts as a placeholder"
   ]
  },
  {
   "cell_type": "markdown",
   "id": "ce84d70f",
   "metadata": {},
   "source": [
    "### Break"
   ]
  },
  {
   "cell_type": "code",
   "execution_count": 1,
   "id": "d0a8922e",
   "metadata": {},
   "outputs": [
    {
     "name": "stdout",
     "output_type": "stream",
     "text": [
      "enter your name :Arnold\n"
     ]
    }
   ],
   "source": [
    "while True:\n",
    "  name = input(\"enter your name :\")\n",
    "  if name !=\"\":\n",
    "    break"
   ]
  },
  {
   "cell_type": "markdown",
   "id": "a4d2f256",
   "metadata": {},
   "source": [
    "### Continue"
   ]
  },
  {
   "cell_type": "code",
   "execution_count": 2,
   "id": "14486336",
   "metadata": {},
   "outputs": [
    {
     "name": "stdout",
     "output_type": "stream",
     "text": [
      "1234567890"
     ]
    }
   ],
   "source": [
    "phone_number = \"123-456-7890\"\n",
    "for i in phone_number:\n",
    "  if i == \"-\":\n",
    "    continue\n",
    "  print(i, end=\"\")"
   ]
  },
  {
   "cell_type": "markdown",
   "id": "b7b770db",
   "metadata": {},
   "source": [
    "### Pass"
   ]
  },
  {
   "cell_type": "code",
   "execution_count": 3,
   "id": "072cec69",
   "metadata": {},
   "outputs": [
    {
     "name": "stdout",
     "output_type": "stream",
     "text": [
      "1\n",
      "2\n",
      "3\n",
      "4\n",
      "5\n",
      "6\n",
      "7\n",
      "8\n",
      "9\n",
      "10\n",
      "11\n",
      "12\n",
      "14\n",
      "15\n",
      "16\n",
      "17\n",
      "18\n",
      "19\n",
      "20\n"
     ]
    }
   ],
   "source": [
    "for i in range(1,21):\n",
    "  if i ==13:\n",
    "    pass\n",
    "  else:\n",
    "    print(i)"
   ]
  }
 ],
 "metadata": {
  "kernelspec": {
   "display_name": "Python 3 (ipykernel)",
   "language": "python",
   "name": "python3"
  },
  "language_info": {
   "codemirror_mode": {
    "name": "ipython",
    "version": 3
   },
   "file_extension": ".py",
   "mimetype": "text/x-python",
   "name": "python",
   "nbconvert_exporter": "python",
   "pygments_lexer": "ipython3",
   "version": "3.9.12"
  }
 },
 "nbformat": 4,
 "nbformat_minor": 5
}
