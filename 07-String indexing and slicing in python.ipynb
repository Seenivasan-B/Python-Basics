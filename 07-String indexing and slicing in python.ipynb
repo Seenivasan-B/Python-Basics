{
 "cells": [
  {
   "cell_type": "markdown",
   "id": "48a5cb60",
   "metadata": {},
   "source": [
    "# 07-String indexing and slicing in python"
   ]
  },
  {
   "cell_type": "markdown",
   "id": "1e058936",
   "metadata": {},
   "source": [
    "## Indexing"
   ]
  },
  {
   "cell_type": "markdown",
   "id": "883f5eaa",
   "metadata": {},
   "source": [
    "Creating a substring by extracting elements from another string."
   ]
  },
  {
   "cell_type": "markdown",
   "id": "dd923a67",
   "metadata": {},
   "source": [
    "indexing = [start : stop : step]"
   ]
  },
  {
   "cell_type": "markdown",
   "id": "a801ba3e",
   "metadata": {},
   "source": [
    " start - inclusive \n",
    "     \n",
    "     \n",
    "             \n",
    "    "
   ]
  },
  {
   "cell_type": "markdown",
   "id": "dffadaf7",
   "metadata": {},
   "source": [
    "stop - exclusive"
   ]
  },
  {
   "cell_type": "markdown",
   "id": "92b3b6b0",
   "metadata": {},
   "source": [
    "step  - It's an optional value. It's how much we are increasing our index."
   ]
  },
  {
   "cell_type": "markdown",
   "id": "71877549",
   "metadata": {},
   "source": [
    "By default step value is one."
   ]
  },
  {
   "cell_type": "code",
   "execution_count": 1,
   "id": "4f685862",
   "metadata": {},
   "outputs": [],
   "source": [
    "name = 'Arnold Schwarzenegger'"
   ]
  },
  {
   "cell_type": "code",
   "execution_count": 2,
   "id": "8aa09ed4",
   "metadata": {},
   "outputs": [
    {
     "data": {
      "text/plain": [
       "21"
      ]
     },
     "execution_count": 2,
     "metadata": {},
     "output_type": "execute_result"
    }
   ],
   "source": [
    "len(name)"
   ]
  },
  {
   "cell_type": "code",
   "execution_count": 3,
   "id": "22a258fa",
   "metadata": {},
   "outputs": [],
   "source": [
    "first_name = name[0:6]"
   ]
  },
  {
   "cell_type": "code",
   "execution_count": 4,
   "id": "73be10cc",
   "metadata": {},
   "outputs": [
    {
     "data": {
      "text/plain": [
       "'Arnold'"
      ]
     },
     "execution_count": 4,
     "metadata": {},
     "output_type": "execute_result"
    }
   ],
   "source": [
    "first_name"
   ]
  },
  {
   "cell_type": "markdown",
   "id": "e3ed9a25",
   "metadata": {},
   "source": [
    "Here the indexing starts from 0 and ends at 6. But we have 7 numbers from 0-6 , there are only 6 characters in the output because stop is exclusive."
   ]
  },
  {
   "cell_type": "code",
   "execution_count": 5,
   "id": "1023659e",
   "metadata": {},
   "outputs": [],
   "source": [
    "first_name = name[:6]"
   ]
  },
  {
   "cell_type": "code",
   "execution_count": 6,
   "id": "02685bb5",
   "metadata": {},
   "outputs": [
    {
     "data": {
      "text/plain": [
       "'Arnold'"
      ]
     },
     "execution_count": 6,
     "metadata": {},
     "output_type": "execute_result"
    }
   ],
   "source": [
    "first_name"
   ]
  },
  {
   "cell_type": "markdown",
   "id": "f722702e",
   "metadata": {},
   "source": [
    "If we don't give any input to start by default it will take the value as 0."
   ]
  },
  {
   "cell_type": "code",
   "execution_count": 7,
   "id": "5646f7e0",
   "metadata": {},
   "outputs": [],
   "source": [
    "last_name = name[7:21]"
   ]
  },
  {
   "cell_type": "code",
   "execution_count": 8,
   "id": "0e6e4a3c",
   "metadata": {},
   "outputs": [
    {
     "data": {
      "text/plain": [
       "'Schwarzenegger'"
      ]
     },
     "execution_count": 8,
     "metadata": {},
     "output_type": "execute_result"
    }
   ],
   "source": [
    "last_name"
   ]
  },
  {
   "cell_type": "code",
   "execution_count": 9,
   "id": "98416ef3",
   "metadata": {},
   "outputs": [],
   "source": [
    "last_name = name[7:]"
   ]
  },
  {
   "cell_type": "code",
   "execution_count": 10,
   "id": "803c1365",
   "metadata": {},
   "outputs": [
    {
     "data": {
      "text/plain": [
       "'Schwarzenegger'"
      ]
     },
     "execution_count": 10,
     "metadata": {},
     "output_type": "execute_result"
    }
   ],
   "source": [
    "last_name"
   ]
  },
  {
   "cell_type": "markdown",
   "id": "85be10a0",
   "metadata": {},
   "source": [
    "Here we didn't gave any input to stop and by default it will take the last value as input that is len(name)which is equal to 21."
   ]
  },
  {
   "cell_type": "code",
   "execution_count": 11,
   "id": "88ad0c2f",
   "metadata": {},
   "outputs": [],
   "source": [
    "jump_name = name[0:21:2]"
   ]
  },
  {
   "cell_type": "code",
   "execution_count": 12,
   "id": "50d57c41",
   "metadata": {},
   "outputs": [
    {
     "data": {
      "text/plain": [
       "'Anl cwreegr'"
      ]
     },
     "execution_count": 12,
     "metadata": {},
     "output_type": "execute_result"
    }
   ],
   "source": [
    "jump_name"
   ]
  },
  {
   "cell_type": "code",
   "execution_count": 13,
   "id": "9839d9e1",
   "metadata": {},
   "outputs": [],
   "source": [
    "jump_name = name[::2]"
   ]
  },
  {
   "cell_type": "code",
   "execution_count": 14,
   "id": "852ed4e4",
   "metadata": {},
   "outputs": [
    {
     "data": {
      "text/plain": [
       "'Anl cwreegr'"
      ]
     },
     "execution_count": 14,
     "metadata": {},
     "output_type": "execute_result"
    }
   ],
   "source": [
    "jump_name"
   ]
  },
  {
   "cell_type": "markdown",
   "id": "ef922fcf",
   "metadata": {},
   "source": [
    "Here the start value is 0 and stop value is 21 and we gave the step value as 2."
   ]
  },
  {
   "cell_type": "markdown",
   "id": "cc613e7c",
   "metadata": {},
   "source": [
    "### To reverse a name in python"
   ]
  },
  {
   "cell_type": "code",
   "execution_count": 15,
   "id": "06a5cb19",
   "metadata": {},
   "outputs": [],
   "source": [
    "reversed_name = name[::-1]"
   ]
  },
  {
   "cell_type": "code",
   "execution_count": 16,
   "id": "bead5943",
   "metadata": {},
   "outputs": [
    {
     "data": {
      "text/plain": [
       "'reggenezrawhcS dlonrA'"
      ]
     },
     "execution_count": 16,
     "metadata": {},
     "output_type": "execute_result"
    }
   ],
   "source": [
    "reversed_name"
   ]
  },
  {
   "cell_type": "markdown",
   "id": "08762199",
   "metadata": {},
   "source": [
    "## Slicing"
   ]
  },
  {
   "cell_type": "markdown",
   "id": "24718f24",
   "metadata": {},
   "source": [
    "Creating a substring by extracting elements from another string."
   ]
  },
  {
   "cell_type": "markdown",
   "id": "189d610a",
   "metadata": {},
   "source": [
    "slice(start : stop : step)"
   ]
  },
  {
   "cell_type": "markdown",
   "id": "3f5e32f5",
   "metadata": {},
   "source": [
    " start - inclusive"
   ]
  },
  {
   "cell_type": "markdown",
   "id": "03a367fb",
   "metadata": {},
   "source": [
    "stop - exclusive. If negative indexing is used then it's inclusive."
   ]
  },
  {
   "cell_type": "code",
   "execution_count": 17,
   "id": "c89914c5",
   "metadata": {},
   "outputs": [],
   "source": [
    "web_1 = \"http://google.com\""
   ]
  },
  {
   "cell_type": "code",
   "execution_count": 18,
   "id": "d41c3f57",
   "metadata": {},
   "outputs": [],
   "source": [
    "slice_name = slice(7,-4) "
   ]
  },
  {
   "cell_type": "code",
   "execution_count": 19,
   "id": "3e3a363b",
   "metadata": {},
   "outputs": [
    {
     "data": {
      "text/plain": [
       "'google'"
      ]
     },
     "execution_count": 19,
     "metadata": {},
     "output_type": "execute_result"
    }
   ],
   "source": [
    "web_1[slice_name]"
   ]
  },
  {
   "cell_type": "code",
   "execution_count": 20,
   "id": "56b7aba4",
   "metadata": {},
   "outputs": [],
   "source": [
    "web_2 = 'http://wikipedia.com'"
   ]
  },
  {
   "cell_type": "code",
   "execution_count": 21,
   "id": "8a5db5d7",
   "metadata": {},
   "outputs": [
    {
     "data": {
      "text/plain": [
       "'wikipedia'"
      ]
     },
     "execution_count": 21,
     "metadata": {},
     "output_type": "execute_result"
    }
   ],
   "source": [
    "web_2[slice_name]"
   ]
  },
  {
   "cell_type": "markdown",
   "id": "179bc49d",
   "metadata": {},
   "source": [
    "Aliter method"
   ]
  },
  {
   "cell_type": "code",
   "execution_count": 22,
   "id": "013c0502",
   "metadata": {},
   "outputs": [
    {
     "data": {
      "text/plain": [
       "'google'"
      ]
     },
     "execution_count": 22,
     "metadata": {},
     "output_type": "execute_result"
    }
   ],
   "source": [
    "web_1[slice(7,-4)]"
   ]
  },
  {
   "cell_type": "markdown",
   "id": "f0f486e8",
   "metadata": {},
   "source": [
    "Slicing is not much used in data anlytics."
   ]
  }
 ],
 "metadata": {
  "kernelspec": {
   "display_name": "Python 3 (ipykernel)",
   "language": "python",
   "name": "python3"
  },
  "language_info": {
   "codemirror_mode": {
    "name": "ipython",
    "version": 3
   },
   "file_extension": ".py",
   "mimetype": "text/x-python",
   "name": "python",
   "nbconvert_exporter": "python",
   "pygments_lexer": "ipython3",
   "version": "3.9.12"
  }
 },
 "nbformat": 4,
 "nbformat_minor": 5
}
