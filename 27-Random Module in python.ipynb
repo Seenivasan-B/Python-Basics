{
 "cells": [
  {
   "cell_type": "markdown",
   "id": "8c56f273",
   "metadata": {},
   "source": [
    "# 27-Random Module in python"
   ]
  },
  {
   "cell_type": "code",
   "execution_count": 1,
   "id": "3d90d588",
   "metadata": {},
   "outputs": [],
   "source": [
    "import random"
   ]
  },
  {
   "cell_type": "markdown",
   "id": "65fe2eb7",
   "metadata": {},
   "source": [
    "### To print a number from 1 to 10"
   ]
  },
  {
   "cell_type": "code",
   "execution_count": 2,
   "id": "2dab329c",
   "metadata": {},
   "outputs": [
    {
     "name": "stdout",
     "output_type": "stream",
     "text": [
      "4\n"
     ]
    }
   ],
   "source": [
    "x = random.randint(1,10)  #Here 10 in inclusive\n",
    "print(x)"
   ]
  },
  {
   "cell_type": "markdown",
   "id": "6f31ea7e",
   "metadata": {},
   "source": [
    "### To print a number from 0 to 1"
   ]
  },
  {
   "cell_type": "code",
   "execution_count": 3,
   "id": "79af9ef2",
   "metadata": {},
   "outputs": [
    {
     "name": "stdout",
     "output_type": "stream",
     "text": [
      "0.9390383779583605\n"
     ]
    }
   ],
   "source": [
    "x = random.random()\n",
    "print(x)"
   ]
  },
  {
   "cell_type": "markdown",
   "id": "4b0c7842",
   "metadata": {},
   "source": [
    "### To choose a value from a list"
   ]
  },
  {
   "cell_type": "code",
   "execution_count": 4,
   "id": "1cc34c70",
   "metadata": {
    "scrolled": true
   },
   "outputs": [
    {
     "name": "stdout",
     "output_type": "stream",
     "text": [
      "Breaking Bad\n"
     ]
    }
   ],
   "source": [
    "my_list = [\"Breaking Bad\",\"Game of Thrones\",\"West World\"]\n",
    "z = random.choice(my_list)\n",
    "print(z)"
   ]
  },
  {
   "cell_type": "markdown",
   "id": "b529edad",
   "metadata": {},
   "source": [
    "### To shuffle inside a list"
   ]
  },
  {
   "cell_type": "code",
   "execution_count": 5,
   "id": "49352aea",
   "metadata": {},
   "outputs": [
    {
     "name": "stdout",
     "output_type": "stream",
     "text": [
      "['J', 4, 'A', 7, 3, 9, 2, 1, 8, 5, 6, 'K', 'Q']\n"
     ]
    }
   ],
   "source": [
    "cards = [1,2,3,4,5,6,7,8,9,'A','K','Q','J']\n",
    "random.shuffle(cards)\n",
    "print(cards)"
   ]
  }
 ],
 "metadata": {
  "kernelspec": {
   "display_name": "Python 3 (ipykernel)",
   "language": "python",
   "name": "python3"
  },
  "language_info": {
   "codemirror_mode": {
    "name": "ipython",
    "version": 3
   },
   "file_extension": ".py",
   "mimetype": "text/x-python",
   "name": "python",
   "nbconvert_exporter": "python",
   "pygments_lexer": "ipython3",
   "version": "3.9.12"
  }
 },
 "nbformat": 4,
 "nbformat_minor": 5
}
