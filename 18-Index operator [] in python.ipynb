{
 "cells": [
  {
   "cell_type": "markdown",
   "id": "19bd58c5",
   "metadata": {},
   "source": [
    "# 18-Index operator [] in python"
   ]
  },
  {
   "cell_type": "markdown",
   "id": "ac54f087",
   "metadata": {},
   "source": [
    "Gives access to a sequence's element (str, list, tuples)"
   ]
  },
  {
   "cell_type": "markdown",
   "id": "b2025799",
   "metadata": {},
   "source": [
    "islower() - To check if every letter is of lower case."
   ]
  },
  {
   "cell_type": "markdown",
   "id": "5e2cb1b9",
   "metadata": {},
   "source": [
    "upper() - To make every letter into upper case."
   ]
  },
  {
   "cell_type": "markdown",
   "id": "d5dede16",
   "metadata": {},
   "source": [
    "lower()- To make every letter into lower case."
   ]
  },
  {
   "cell_type": "markdown",
   "id": "3d4fe225",
   "metadata": {},
   "source": [
    "#### To capitalize the name i.e., making the 1st letter to upper case"
   ]
  },
  {
   "cell_type": "code",
   "execution_count": 1,
   "id": "b7d33064",
   "metadata": {},
   "outputs": [
    {
     "name": "stdout",
     "output_type": "stream",
     "text": [
      "Arnold schwarzenegger\n"
     ]
    }
   ],
   "source": [
    "name = 'arnold schwarzenegger'\n",
    "if (name[0].islower()):\n",
    "    name = name.capitalize()\n",
    "print(name)"
   ]
  },
  {
   "cell_type": "markdown",
   "id": "3f2c7771",
   "metadata": {},
   "source": [
    "#### To print the first and last name seperately"
   ]
  },
  {
   "cell_type": "code",
   "execution_count": 2,
   "id": "1b328991",
   "metadata": {},
   "outputs": [
    {
     "name": "stdout",
     "output_type": "stream",
     "text": [
      "ARNOLD\n",
      "schwarzenegger\n"
     ]
    }
   ],
   "source": [
    "name = 'arnold schwarzenegger'\n",
    "first_name = name[:6].upper()\n",
    "print(first_name)\n",
    "last_name = name[7:].lower()\n",
    "print(last_name)"
   ]
  },
  {
   "cell_type": "markdown",
   "id": "a1c61eff",
   "metadata": {},
   "source": [
    "#### To print the last letter of the name"
   ]
  },
  {
   "cell_type": "code",
   "execution_count": 3,
   "id": "4c44fc7b",
   "metadata": {},
   "outputs": [
    {
     "data": {
      "text/plain": [
       "'r'"
      ]
     },
     "execution_count": 3,
     "metadata": {},
     "output_type": "execute_result"
    }
   ],
   "source": [
    "name = 'arnold schwarzenegger'\n",
    "last_char = name[-1]\n",
    "last_char"
   ]
  }
 ],
 "metadata": {
  "kernelspec": {
   "display_name": "Python 3 (ipykernel)",
   "language": "python",
   "name": "python3"
  },
  "language_info": {
   "codemirror_mode": {
    "name": "ipython",
    "version": 3
   },
   "file_extension": ".py",
   "mimetype": "text/x-python",
   "name": "python",
   "nbconvert_exporter": "python",
   "pygments_lexer": "ipython3",
   "version": "3.9.12"
  }
 },
 "nbformat": 4,
 "nbformat_minor": 5
}
