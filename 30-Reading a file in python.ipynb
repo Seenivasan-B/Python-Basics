{
 "cells": [
  {
   "cell_type": "markdown",
   "id": "e6a227b5",
   "metadata": {},
   "source": [
    "# 30-Reading a file in python"
   ]
  },
  {
   "cell_type": "code",
   "execution_count": 1,
   "id": "a3a8f4d5",
   "metadata": {},
   "outputs": [
    {
     "name": "stdout",
     "output_type": "stream",
     "text": [
      "1,13,21,11,196,75,4,3,34,6,7,8,0,1,2,3,4,5\n",
      "3,42,12,33,766,75,4,55,6,4,3,4,5,6,7,0,11,12\n",
      "1,22,33,11,999,11,2,1,78,0,1,2,9,8,7,1,76,88\n",
      "True\n"
     ]
    }
   ],
   "source": [
    "with open(\"E:\\study materials\\python\\Data.txt\") as file:\n",
    "    print(file.read())\n",
    "print(file.closed)"
   ]
  },
  {
   "cell_type": "markdown",
   "id": "84f1c869",
   "metadata": {},
   "source": [
    "Since the file opened it will automatically closed after execution"
   ]
  },
  {
   "cell_type": "code",
   "execution_count": 2,
   "id": "18ed9684",
   "metadata": {},
   "outputs": [
    {
     "name": "stdout",
     "output_type": "stream",
     "text": [
      "File not found\n"
     ]
    }
   ],
   "source": [
    "try:\n",
    "    with open('E:\\\\study materials\\\\python\\\\test_data.txt') as file:\n",
    "        print(file.read())\n",
    "except FileNotFoundError:\n",
    "    print(\"File not found\")"
   ]
  }
 ],
 "metadata": {
  "kernelspec": {
   "display_name": "Python 3 (ipykernel)",
   "language": "python",
   "name": "python3"
  },
  "language_info": {
   "codemirror_mode": {
    "name": "ipython",
    "version": 3
   },
   "file_extension": ".py",
   "mimetype": "text/x-python",
   "name": "python",
   "nbconvert_exporter": "python",
   "pygments_lexer": "ipython3",
   "version": "3.9.12"
  }
 },
 "nbformat": 4,
 "nbformat_minor": 5
}
