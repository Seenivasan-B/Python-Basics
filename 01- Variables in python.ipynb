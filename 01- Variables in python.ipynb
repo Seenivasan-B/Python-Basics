{
 "cells": [
  {
   "cell_type": "markdown",
   "id": "6b27050f",
   "metadata": {},
   "source": [
    "# variables \n",
    "\n",
    "1. string\n",
    "\n",
    "2. int\n",
    "\n",
    "3. float\n",
    "\n",
    "4. boolean"
   ]
  },
  {
   "cell_type": "markdown",
   "id": "92b0e677",
   "metadata": {},
   "source": [
    "## string"
   ]
  },
  {
   "cell_type": "markdown",
   "id": "259cd5a6",
   "metadata": {},
   "source": [
    "A string is a series of character. A string can be a single letter or of multiple words."
   ]
  },
  {
   "cell_type": "code",
   "execution_count": 1,
   "id": "bd8daecb",
   "metadata": {},
   "outputs": [],
   "source": [
    "name = \"Arnold\""
   ]
  },
  {
   "cell_type": "code",
   "execution_count": 2,
   "id": "0f1e754e",
   "metadata": {},
   "outputs": [
    {
     "data": {
      "text/plain": [
       "'Arnold'"
      ]
     },
     "execution_count": 2,
     "metadata": {},
     "output_type": "execute_result"
    }
   ],
   "source": [
    "name"
   ]
  },
  {
   "cell_type": "markdown",
   "id": "24530e66",
   "metadata": {},
   "source": [
    "To find out the type of the variable we can use type() function."
   ]
  },
  {
   "cell_type": "code",
   "execution_count": 3,
   "id": "eefa304f",
   "metadata": {},
   "outputs": [
    {
     "data": {
      "text/plain": [
       "str"
      ]
     },
     "execution_count": 3,
     "metadata": {},
     "output_type": "execute_result"
    }
   ],
   "source": [
    "type(name)"
   ]
  },
  {
   "cell_type": "markdown",
   "id": "b5b1d364",
   "metadata": {},
   "source": [
    "### Using the print statement"
   ]
  },
  {
   "cell_type": "code",
   "execution_count": 4,
   "id": "ab194af1",
   "metadata": {},
   "outputs": [
    {
     "name": "stdout",
     "output_type": "stream",
     "text": [
      "name\n"
     ]
    }
   ],
   "source": [
    "print(\"name\")"
   ]
  },
  {
   "cell_type": "code",
   "execution_count": 5,
   "id": "04bddd91",
   "metadata": {},
   "outputs": [
    {
     "name": "stdout",
     "output_type": "stream",
     "text": [
      "Arnold\n"
     ]
    }
   ],
   "source": [
    "print(name)"
   ]
  },
  {
   "cell_type": "markdown",
   "id": "290a3851",
   "metadata": {},
   "source": [
    "To print the value inside variable we don't need to use quotes."
   ]
  },
  {
   "cell_type": "code",
   "execution_count": 6,
   "id": "6540f094",
   "metadata": {
    "scrolled": true
   },
   "outputs": [
    {
     "name": "stdout",
     "output_type": "stream",
     "text": [
      "Hello Arnold\n"
     ]
    }
   ],
   "source": [
    "print(\"Hello \"+ name)"
   ]
  },
  {
   "cell_type": "markdown",
   "id": "4f7e3521",
   "metadata": {},
   "source": [
    "Here I have intentionally gave space after hello_ so that there will a space between the output characters."
   ]
  },
  {
   "cell_type": "markdown",
   "id": "aa285315",
   "metadata": {},
   "source": [
    "## integer"
   ]
  },
  {
   "cell_type": "markdown",
   "id": "43bb35a9",
   "metadata": {},
   "source": [
    "In integer we can assign any value from -infinity to +infinity."
   ]
  },
  {
   "cell_type": "code",
   "execution_count": 7,
   "id": "518200ed",
   "metadata": {},
   "outputs": [],
   "source": [
    "a = 25"
   ]
  },
  {
   "cell_type": "code",
   "execution_count": 8,
   "id": "2315029a",
   "metadata": {},
   "outputs": [
    {
     "data": {
      "text/plain": [
       "25"
      ]
     },
     "execution_count": 8,
     "metadata": {},
     "output_type": "execute_result"
    }
   ],
   "source": [
    "a"
   ]
  },
  {
   "cell_type": "code",
   "execution_count": 9,
   "id": "644980b8",
   "metadata": {},
   "outputs": [],
   "source": [
    "a = a+1"
   ]
  },
  {
   "cell_type": "code",
   "execution_count": 10,
   "id": "12770d76",
   "metadata": {},
   "outputs": [
    {
     "data": {
      "text/plain": [
       "26"
      ]
     },
     "execution_count": 10,
     "metadata": {},
     "output_type": "execute_result"
    }
   ],
   "source": [
    "a"
   ]
  },
  {
   "cell_type": "code",
   "execution_count": 11,
   "id": "43c9ab01",
   "metadata": {},
   "outputs": [],
   "source": [
    "a = 25"
   ]
  },
  {
   "cell_type": "code",
   "execution_count": 12,
   "id": "3b290e44",
   "metadata": {},
   "outputs": [],
   "source": [
    "a+=1"
   ]
  },
  {
   "cell_type": "code",
   "execution_count": 13,
   "id": "d05728ad",
   "metadata": {},
   "outputs": [
    {
     "data": {
      "text/plain": [
       "26"
      ]
     },
     "execution_count": 13,
     "metadata": {},
     "output_type": "execute_result"
    }
   ],
   "source": [
    "a"
   ]
  },
  {
   "cell_type": "markdown",
   "id": "df66545e",
   "metadata": {},
   "source": [
    "#### using negative integer"
   ]
  },
  {
   "cell_type": "code",
   "execution_count": 14,
   "id": "7e33915a",
   "metadata": {},
   "outputs": [],
   "source": [
    "a = -25"
   ]
  },
  {
   "cell_type": "code",
   "execution_count": 15,
   "id": "318ef154",
   "metadata": {},
   "outputs": [
    {
     "data": {
      "text/plain": [
       "-25"
      ]
     },
     "execution_count": 15,
     "metadata": {},
     "output_type": "execute_result"
    }
   ],
   "source": [
    "a"
   ]
  },
  {
   "cell_type": "code",
   "execution_count": 16,
   "id": "d723fefd",
   "metadata": {},
   "outputs": [],
   "source": [
    "a+=1"
   ]
  },
  {
   "cell_type": "code",
   "execution_count": 17,
   "id": "39116bab",
   "metadata": {},
   "outputs": [
    {
     "data": {
      "text/plain": [
       "-24"
      ]
     },
     "execution_count": 17,
     "metadata": {},
     "output_type": "execute_result"
    }
   ],
   "source": [
    "a"
   ]
  },
  {
   "cell_type": "code",
   "execution_count": 18,
   "id": "29c75f6e",
   "metadata": {},
   "outputs": [],
   "source": [
    "a-=1"
   ]
  },
  {
   "cell_type": "code",
   "execution_count": 19,
   "id": "f1a401c1",
   "metadata": {},
   "outputs": [
    {
     "data": {
      "text/plain": [
       "-25"
      ]
     },
     "execution_count": 19,
     "metadata": {},
     "output_type": "execute_result"
    }
   ],
   "source": [
    "a"
   ]
  },
  {
   "cell_type": "markdown",
   "id": "9df80f6d",
   "metadata": {},
   "source": [
    "### Using integer value in a print statement"
   ]
  },
  {
   "cell_type": "code",
   "execution_count": 20,
   "id": "baa16582",
   "metadata": {},
   "outputs": [
    {
     "data": {
      "text/plain": [
       "int"
      ]
     },
     "execution_count": 20,
     "metadata": {},
     "output_type": "execute_result"
    }
   ],
   "source": [
    "type(a)"
   ]
  },
  {
   "cell_type": "code",
   "execution_count": 21,
   "id": "de152176",
   "metadata": {},
   "outputs": [
    {
     "data": {
      "text/plain": [
       "str"
      ]
     },
     "execution_count": 21,
     "metadata": {},
     "output_type": "execute_result"
    }
   ],
   "source": [
    "a = str(a)\n",
    "type(a)"
   ]
  },
  {
   "cell_type": "code",
   "execution_count": 22,
   "id": "162ead43",
   "metadata": {},
   "outputs": [
    {
     "name": "stdout",
     "output_type": "stream",
     "text": [
      "The integer value of a is -25\n"
     ]
    }
   ],
   "source": [
    "print(\"The integer value of a is \"+str(a))"
   ]
  },
  {
   "cell_type": "markdown",
   "id": "8f2f5b6b",
   "metadata": {},
   "source": [
    "Here we are converting the type of value \"a\" to string so as to print the value."
   ]
  },
  {
   "cell_type": "markdown",
   "id": "fc0119a3",
   "metadata": {},
   "source": [
    "## Float"
   ]
  },
  {
   "cell_type": "markdown",
   "id": "fdd14c4d",
   "metadata": {},
   "source": [
    "float is a floating point number i.e., decimal number"
   ]
  },
  {
   "cell_type": "code",
   "execution_count": 23,
   "id": "f3c48611",
   "metadata": {},
   "outputs": [],
   "source": [
    "b = 100.25"
   ]
  },
  {
   "cell_type": "code",
   "execution_count": 24,
   "id": "6b909313",
   "metadata": {},
   "outputs": [
    {
     "data": {
      "text/plain": [
       "100.25"
      ]
     },
     "execution_count": 24,
     "metadata": {},
     "output_type": "execute_result"
    }
   ],
   "source": [
    "b"
   ]
  },
  {
   "cell_type": "code",
   "execution_count": 25,
   "id": "262c647f",
   "metadata": {},
   "outputs": [
    {
     "data": {
      "text/plain": [
       "float"
      ]
     },
     "execution_count": 25,
     "metadata": {},
     "output_type": "execute_result"
    }
   ],
   "source": [
    "type(b)"
   ]
  },
  {
   "cell_type": "code",
   "execution_count": 26,
   "id": "348aa771",
   "metadata": {},
   "outputs": [],
   "source": [
    "b+=1"
   ]
  },
  {
   "cell_type": "code",
   "execution_count": 27,
   "id": "3c104ab2",
   "metadata": {},
   "outputs": [
    {
     "data": {
      "text/plain": [
       "101.25"
      ]
     },
     "execution_count": 27,
     "metadata": {},
     "output_type": "execute_result"
    }
   ],
   "source": [
    "b"
   ]
  },
  {
   "cell_type": "code",
   "execution_count": 28,
   "id": "82d4c49d",
   "metadata": {},
   "outputs": [],
   "source": [
    "b-=1"
   ]
  },
  {
   "cell_type": "code",
   "execution_count": 29,
   "id": "d75c5fd3",
   "metadata": {},
   "outputs": [
    {
     "data": {
      "text/plain": [
       "100.25"
      ]
     },
     "execution_count": 29,
     "metadata": {},
     "output_type": "execute_result"
    }
   ],
   "source": [
    "b"
   ]
  },
  {
   "cell_type": "markdown",
   "id": "b26305f3",
   "metadata": {},
   "source": [
    "### Using a float value inside a print statement"
   ]
  },
  {
   "cell_type": "code",
   "execution_count": 30,
   "id": "067d5cf6",
   "metadata": {},
   "outputs": [
    {
     "data": {
      "text/plain": [
       "float"
      ]
     },
     "execution_count": 30,
     "metadata": {},
     "output_type": "execute_result"
    }
   ],
   "source": [
    "type(b)"
   ]
  },
  {
   "cell_type": "code",
   "execution_count": 31,
   "id": "d0749e72",
   "metadata": {},
   "outputs": [],
   "source": [
    "b = str(b)"
   ]
  },
  {
   "cell_type": "code",
   "execution_count": 32,
   "id": "43fcb775",
   "metadata": {
    "scrolled": true
   },
   "outputs": [
    {
     "data": {
      "text/plain": [
       "str"
      ]
     },
     "execution_count": 32,
     "metadata": {},
     "output_type": "execute_result"
    }
   ],
   "source": [
    "type(b)"
   ]
  },
  {
   "cell_type": "markdown",
   "id": "cfd47dae",
   "metadata": {},
   "source": [
    "Here we are converting the type of value \"b\" to string so as to print the value."
   ]
  },
  {
   "cell_type": "code",
   "execution_count": 33,
   "id": "4f2a4a85",
   "metadata": {},
   "outputs": [
    {
     "name": "stdout",
     "output_type": "stream",
     "text": [
      "The value of b is: 100.25\n"
     ]
    }
   ],
   "source": [
    "print(\"The value of b is: \"+str(b))"
   ]
  },
  {
   "cell_type": "markdown",
   "id": "42dc3b05",
   "metadata": {},
   "source": [
    "# Boolean"
   ]
  },
  {
   "cell_type": "code",
   "execution_count": 34,
   "id": "facb2806",
   "metadata": {},
   "outputs": [],
   "source": [
    "c = True"
   ]
  },
  {
   "cell_type": "code",
   "execution_count": 35,
   "id": "4bc6a6e2",
   "metadata": {},
   "outputs": [
    {
     "data": {
      "text/plain": [
       "True"
      ]
     },
     "execution_count": 35,
     "metadata": {},
     "output_type": "execute_result"
    }
   ],
   "source": [
    "c"
   ]
  },
  {
   "cell_type": "code",
   "execution_count": 36,
   "id": "ff731451",
   "metadata": {},
   "outputs": [
    {
     "data": {
      "text/plain": [
       "bool"
      ]
     },
     "execution_count": 36,
     "metadata": {},
     "output_type": "execute_result"
    }
   ],
   "source": [
    "type(c)"
   ]
  },
  {
   "cell_type": "markdown",
   "id": "a41f0103",
   "metadata": {},
   "source": [
    "### using inside a print statement"
   ]
  },
  {
   "cell_type": "code",
   "execution_count": 37,
   "id": "80c87629",
   "metadata": {},
   "outputs": [],
   "source": [
    "c = str(c)"
   ]
  },
  {
   "cell_type": "code",
   "execution_count": 38,
   "id": "699f48b9",
   "metadata": {},
   "outputs": [
    {
     "data": {
      "text/plain": [
       "str"
      ]
     },
     "execution_count": 38,
     "metadata": {},
     "output_type": "execute_result"
    }
   ],
   "source": [
    "type(c)"
   ]
  },
  {
   "cell_type": "markdown",
   "id": "439d00ea",
   "metadata": {},
   "source": [
    "Here we are converting the type of value \"c\" to string so as to print the value."
   ]
  },
  {
   "cell_type": "code",
   "execution_count": 39,
   "id": "5506764d",
   "metadata": {},
   "outputs": [
    {
     "name": "stdout",
     "output_type": "stream",
     "text": [
      "The value of a is -25 : True\n"
     ]
    }
   ],
   "source": [
    "print(\"The value of a is -25 : \"+str(c))"
   ]
  },
  {
   "cell_type": "markdown",
   "id": "1c50516a",
   "metadata": {},
   "source": [
    "#### Another important method in boolean is it can be converted into an integer or float."
   ]
  },
  {
   "cell_type": "code",
   "execution_count": 40,
   "id": "81065ea0",
   "metadata": {},
   "outputs": [],
   "source": [
    "c = False\n",
    "d = True"
   ]
  },
  {
   "cell_type": "code",
   "execution_count": 41,
   "id": "c27dc70b",
   "metadata": {},
   "outputs": [],
   "source": [
    "c = int(c)\n",
    "d = float(d)"
   ]
  },
  {
   "cell_type": "code",
   "execution_count": 42,
   "id": "e565ff47",
   "metadata": {},
   "outputs": [
    {
     "data": {
      "text/plain": [
       "int"
      ]
     },
     "execution_count": 42,
     "metadata": {},
     "output_type": "execute_result"
    }
   ],
   "source": [
    "type(c)"
   ]
  },
  {
   "cell_type": "code",
   "execution_count": 43,
   "id": "e231f056",
   "metadata": {},
   "outputs": [
    {
     "data": {
      "text/plain": [
       "float"
      ]
     },
     "execution_count": 43,
     "metadata": {},
     "output_type": "execute_result"
    }
   ],
   "source": [
    "type(d)"
   ]
  },
  {
   "cell_type": "code",
   "execution_count": 44,
   "id": "d6a249b5",
   "metadata": {},
   "outputs": [
    {
     "data": {
      "text/plain": [
       "0"
      ]
     },
     "execution_count": 44,
     "metadata": {},
     "output_type": "execute_result"
    }
   ],
   "source": [
    "c"
   ]
  },
  {
   "cell_type": "code",
   "execution_count": 45,
   "id": "42c160e2",
   "metadata": {},
   "outputs": [
    {
     "data": {
      "text/plain": [
       "1.0"
      ]
     },
     "execution_count": 45,
     "metadata": {},
     "output_type": "execute_result"
    }
   ],
   "source": [
    "d"
   ]
  },
  {
   "cell_type": "markdown",
   "id": "f30ca404",
   "metadata": {},
   "source": [
    "The value for true is 1 and for false it's 0."
   ]
  }
 ],
 "metadata": {
  "kernelspec": {
   "display_name": "Python 3 (ipykernel)",
   "language": "python",
   "name": "python3"
  },
  "language_info": {
   "codemirror_mode": {
    "name": "ipython",
    "version": 3
   },
   "file_extension": ".py",
   "mimetype": "text/x-python",
   "name": "python",
   "nbconvert_exporter": "python",
   "pygments_lexer": "ipython3",
   "version": "3.9.12"
  }
 },
 "nbformat": 4,
 "nbformat_minor": 5
}
