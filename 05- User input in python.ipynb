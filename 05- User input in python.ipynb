{
 "cells": [
  {
   "cell_type": "markdown",
   "id": "7e7a517a",
   "metadata": {},
   "source": [
    "## Types of asking input"
   ]
  },
  {
   "cell_type": "markdown",
   "id": "5695ee8f",
   "metadata": {},
   "source": [
    "1. int()\n",
    "2. float()\n",
    "3. str()\n",
    "\n",
    "By default the input is of type str"
   ]
  },
  {
   "cell_type": "markdown",
   "id": "2c6d3d61",
   "metadata": {},
   "source": [
    "### 1) int()"
   ]
  },
  {
   "cell_type": "code",
   "execution_count": 3,
   "id": "620d51e4",
   "metadata": {
    "scrolled": true
   },
   "outputs": [
    {
     "name": "stdout",
     "output_type": "stream",
     "text": [
      "Enter your age : 22\n",
      "your age is :22\n"
     ]
    }
   ],
   "source": [
    "age = int(input(\"Enter your age : \"))\n",
    "print(\"your age is :\"+str(age))"
   ]
  },
  {
   "cell_type": "markdown",
   "id": "0d9103cd",
   "metadata": {},
   "source": [
    "Here we need to convert the age into string for print statement."
   ]
  },
  {
   "cell_type": "markdown",
   "id": "9f61a41b",
   "metadata": {},
   "source": [
    "### 2) float()"
   ]
  },
  {
   "cell_type": "code",
   "execution_count": 4,
   "id": "9872390f",
   "metadata": {},
   "outputs": [
    {
     "name": "stdout",
     "output_type": "stream",
     "text": [
      "Enter your height : 250\n",
      "You are 250.0cm tall\n"
     ]
    }
   ],
   "source": [
    "height = float(input(\"Enter your height : \"))\n",
    "print(\"You are \"+ str(height)+\"cm tall\")"
   ]
  },
  {
   "cell_type": "markdown",
   "id": "b89f8a36",
   "metadata": {},
   "source": [
    "Here we need to convert the height into string for print statement."
   ]
  },
  {
   "cell_type": "markdown",
   "id": "1d301b3a",
   "metadata": {},
   "source": [
    "### 3) str()"
   ]
  },
  {
   "cell_type": "code",
   "execution_count": 10,
   "id": "c80d3c69",
   "metadata": {},
   "outputs": [
    {
     "name": "stdout",
     "output_type": "stream",
     "text": [
      "Enter your name : Arnold\n",
      "Hello Arnold!\n"
     ]
    }
   ],
   "source": [
    "name = input(\"Enter your name : \")\n",
    "print(\"Hello \"+ name + \"!\")"
   ]
  }
 ],
 "metadata": {
  "kernelspec": {
   "display_name": "Python 3 (ipykernel)",
   "language": "python",
   "name": "python3"
  },
  "language_info": {
   "codemirror_mode": {
    "name": "ipython",
    "version": 3
   },
   "file_extension": ".py",
   "mimetype": "text/x-python",
   "name": "python",
   "nbconvert_exporter": "python",
   "pygments_lexer": "ipython3",
   "version": "3.9.12"
  }
 },
 "nbformat": 4,
 "nbformat_minor": 5
}
