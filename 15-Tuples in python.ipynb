{
 "cells": [
  {
   "cell_type": "markdown",
   "id": "d2e7a9c8",
   "metadata": {},
   "source": [
    "# 15-Tuples in python"
   ]
  },
  {
   "cell_type": "markdown",
   "id": "8284c60f",
   "metadata": {},
   "source": [
    "collection which is ordered and unchangeable."
   ]
  },
  {
   "cell_type": "markdown",
   "id": "1d28d99f",
   "metadata": {},
   "source": [
    "used to group together related data"
   ]
  },
  {
   "cell_type": "code",
   "execution_count": 1,
   "id": "0f7ce920",
   "metadata": {},
   "outputs": [
    {
     "name": "stdout",
     "output_type": "stream",
     "text": [
      "('Arnold', '25', 'male')\n"
     ]
    }
   ],
   "source": [
    "student = (\"Arnold\",\"25\",\"male\")\n",
    "print(student)"
   ]
  },
  {
   "cell_type": "markdown",
   "id": "5208d997",
   "metadata": {},
   "source": [
    "#### To print the individual values inside a tuple"
   ]
  },
  {
   "cell_type": "code",
   "execution_count": 2,
   "id": "a04bf93c",
   "metadata": {},
   "outputs": [
    {
     "name": "stdout",
     "output_type": "stream",
     "text": [
      "Arnold\n",
      "25\n",
      "male\n"
     ]
    }
   ],
   "source": [
    "student = (\"Arnold\",\"25\",\"male\")\n",
    "for i in student:\n",
    "    print(i)"
   ]
  },
  {
   "cell_type": "markdown",
   "id": "be34eb3f",
   "metadata": {},
   "source": [
    "#### To check if a value is inside a tuple"
   ]
  },
  {
   "cell_type": "code",
   "execution_count": 3,
   "id": "54b1554d",
   "metadata": {},
   "outputs": [
    {
     "name": "stdout",
     "output_type": "stream",
     "text": [
      "Arnold is there!\n"
     ]
    }
   ],
   "source": [
    "student = (\"Arnold\",\"25\",\"male\")\n",
    "if 'Arnold' in student:\n",
    "    print(\"Arnold is there!\")"
   ]
  },
  {
   "cell_type": "markdown",
   "id": "12c95a61",
   "metadata": {},
   "source": [
    "## Useful functions in Tuples"
   ]
  },
  {
   "cell_type": "markdown",
   "id": "7ce69ac7",
   "metadata": {},
   "source": [
    "#### Count - To count the no of specific value inside a tuple"
   ]
  },
  {
   "cell_type": "code",
   "execution_count": 4,
   "id": "15447723",
   "metadata": {},
   "outputs": [
    {
     "data": {
      "text/plain": [
       "1"
      ]
     },
     "execution_count": 4,
     "metadata": {},
     "output_type": "execute_result"
    }
   ],
   "source": [
    "student = (\"Arnold\",\"25\",\"male\")\n",
    "student.count('Arnold')"
   ]
  },
  {
   "cell_type": "code",
   "execution_count": 5,
   "id": "4f30fb85",
   "metadata": {},
   "outputs": [
    {
     "data": {
      "text/plain": [
       "2"
      ]
     },
     "execution_count": 5,
     "metadata": {},
     "output_type": "execute_result"
    }
   ],
   "source": [
    "student = (\"Arnold\",\"25\",\"male\",\"Arnold\")\n",
    "student.count('Arnold')"
   ]
  },
  {
   "cell_type": "markdown",
   "id": "0a0b8861",
   "metadata": {},
   "source": [
    "#### Index - To find the index of a specific value"
   ]
  },
  {
   "cell_type": "code",
   "execution_count": 6,
   "id": "6424c0c5",
   "metadata": {},
   "outputs": [
    {
     "data": {
      "text/plain": [
       "0"
      ]
     },
     "execution_count": 6,
     "metadata": {},
     "output_type": "execute_result"
    }
   ],
   "source": [
    "student = (\"Arnold\",\"25\",\"male\")\n",
    "student.index('Arnold')"
   ]
  },
  {
   "cell_type": "code",
   "execution_count": 7,
   "id": "e5957392",
   "metadata": {},
   "outputs": [
    {
     "data": {
      "text/plain": [
       "0"
      ]
     },
     "execution_count": 7,
     "metadata": {},
     "output_type": "execute_result"
    }
   ],
   "source": [
    "student = (\"Arnold\",\"25\",\"male\",\"Arnold\")\n",
    "student.index('Arnold')"
   ]
  },
  {
   "cell_type": "markdown",
   "id": "267ac957",
   "metadata": {},
   "source": [
    "Here the index function will give the index of the 1st matching value irrespective of multiple repetition of a specific value."
   ]
  }
 ],
 "metadata": {
  "kernelspec": {
   "display_name": "Python 3 (ipykernel)",
   "language": "python",
   "name": "python3"
  },
  "language_info": {
   "codemirror_mode": {
    "name": "ipython",
    "version": 3
   },
   "file_extension": ".py",
   "mimetype": "text/x-python",
   "name": "python",
   "nbconvert_exporter": "python",
   "pygments_lexer": "ipython3",
   "version": "3.9.12"
  }
 },
 "nbformat": 4,
 "nbformat_minor": 5
}
