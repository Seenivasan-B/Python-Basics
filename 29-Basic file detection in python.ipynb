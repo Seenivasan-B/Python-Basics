{
 "cells": [
  {
   "cell_type": "markdown",
   "id": "e8283a75",
   "metadata": {},
   "source": [
    "# 29-Basic file detection in python"
   ]
  },
  {
   "cell_type": "code",
   "execution_count": 1,
   "id": "dce2e496",
   "metadata": {},
   "outputs": [
    {
     "name": "stdout",
     "output_type": "stream",
     "text": [
      "This location exists\n"
     ]
    }
   ],
   "source": [
    "import os\n",
    "file_path = \"E:\\study materials\\python\\Test file.docx\"\n",
    "if os.path.exists(file_path):\n",
    "    print(\"This location exists\")\n",
    "else:\n",
    "    print(\"The file location doesn't exists\")"
   ]
  },
  {
   "cell_type": "markdown",
   "id": "4641179a",
   "metadata": {},
   "source": [
    "### To check if it is a file"
   ]
  },
  {
   "cell_type": "code",
   "execution_count": 2,
   "id": "6638d679",
   "metadata": {},
   "outputs": [
    {
     "name": "stdout",
     "output_type": "stream",
     "text": [
      "This location exists\n",
      "This is a file\n"
     ]
    }
   ],
   "source": [
    "import os\n",
    "file_path = \"E:\\study materials\\python\\Test file.docx\"\n",
    "if os.path.exists(file_path):\n",
    "    print(\"This location exists\")\n",
    "    if os.path.isfile(file_path):\n",
    "        print(\"This is a file\")\n",
    "else:\n",
    "    print(\"The file location doesn't exists\")\n"
   ]
  },
  {
   "cell_type": "markdown",
   "id": "aa2a75e3",
   "metadata": {},
   "source": [
    "### To check if it is a folder"
   ]
  },
  {
   "cell_type": "code",
   "execution_count": 3,
   "id": "83de147f",
   "metadata": {},
   "outputs": [
    {
     "name": "stdout",
     "output_type": "stream",
     "text": [
      "This location exists\n",
      "This is a directory\n"
     ]
    }
   ],
   "source": [
    "import os\n",
    "file_path = \"E:\\\\study materials\\\\python\\\\New folder\" \n",
    "\n",
    "if os.path.exists(file_path):\n",
    "    print(\"This location exists\")\n",
    "    if os.path.isfile(file_path):\n",
    "        print(\"This is a file\")\n",
    "    elif os.path.isdir(file_path):\n",
    "        print(\"This is a directory\")\n",
    "\n",
    "else:\n",
    "    print(\"The file location doesn't exists\")"
   ]
  }
 ],
 "metadata": {
  "kernelspec": {
   "display_name": "Python 3 (ipykernel)",
   "language": "python",
   "name": "python3"
  },
  "language_info": {
   "codemirror_mode": {
    "name": "ipython",
    "version": 3
   },
   "file_extension": ".py",
   "mimetype": "text/x-python",
   "name": "python",
   "nbconvert_exporter": "python",
   "pygments_lexer": "ipython3",
   "version": "3.9.12"
  }
 },
 "nbformat": 4,
 "nbformat_minor": 5
}
