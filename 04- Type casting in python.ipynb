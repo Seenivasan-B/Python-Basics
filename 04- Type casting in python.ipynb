{
 "cells": [
  {
   "cell_type": "markdown",
   "id": "650d0cdc",
   "metadata": {},
   "source": [
    "## Type Casting"
   ]
  },
  {
   "cell_type": "markdown",
   "id": "d1fc3507",
   "metadata": {},
   "source": [
    "### To convert the data type of a value to another data type"
   ]
  },
  {
   "cell_type": "code",
   "execution_count": 1,
   "id": "419300df",
   "metadata": {},
   "outputs": [],
   "source": [
    "a = 1\n",
    "b = 2.0\n",
    "c = \"3\"\n",
    "d = True"
   ]
  },
  {
   "cell_type": "code",
   "execution_count": 2,
   "id": "d349748f",
   "metadata": {},
   "outputs": [
    {
     "name": "stdout",
     "output_type": "stream",
     "text": [
      "1\n",
      "2.0\n",
      "3\n",
      "True\n"
     ]
    }
   ],
   "source": [
    "print(a)\n",
    "print(b)\n",
    "print(c)\n",
    "print(d)"
   ]
  },
  {
   "cell_type": "code",
   "execution_count": 3,
   "id": "bf8b246d",
   "metadata": {},
   "outputs": [
    {
     "name": "stdout",
     "output_type": "stream",
     "text": [
      "<class 'int'>\n",
      "<class 'float'>\n",
      "<class 'str'>\n",
      "<class 'bool'>\n"
     ]
    }
   ],
   "source": [
    "print(type(a))\n",
    "print(type(b))\n",
    "print(type(c))\n",
    "print(type(d))"
   ]
  },
  {
   "cell_type": "markdown",
   "id": "cc737d6a",
   "metadata": {},
   "source": [
    "Converting everything into an integer"
   ]
  },
  {
   "cell_type": "code",
   "execution_count": 4,
   "id": "1c0e9e1e",
   "metadata": {},
   "outputs": [],
   "source": [
    "b = int(b)\n",
    "c = int(c)\n",
    "d = int(d)"
   ]
  },
  {
   "cell_type": "code",
   "execution_count": 5,
   "id": "f9c61d30",
   "metadata": {},
   "outputs": [
    {
     "name": "stdout",
     "output_type": "stream",
     "text": [
      "<class 'int'>\n",
      "<class 'int'>\n",
      "<class 'int'>\n",
      "<class 'int'>\n"
     ]
    }
   ],
   "source": [
    "print(type(a))\n",
    "print(type(b))\n",
    "print(type(c))\n",
    "print(type(d))"
   ]
  },
  {
   "cell_type": "code",
   "execution_count": 6,
   "id": "176c3fe6",
   "metadata": {},
   "outputs": [
    {
     "name": "stdout",
     "output_type": "stream",
     "text": [
      "1\n",
      "2\n",
      "3\n",
      "1\n"
     ]
    }
   ],
   "source": [
    "print(a)\n",
    "print(b)\n",
    "print(c)\n",
    "print(d)"
   ]
  },
  {
   "cell_type": "markdown",
   "id": "739ac6af",
   "metadata": {},
   "source": [
    "converting everthing into a string"
   ]
  },
  {
   "cell_type": "code",
   "execution_count": 7,
   "id": "b93b83bd",
   "metadata": {},
   "outputs": [],
   "source": [
    "a = 1\n",
    "b = 2.0\n",
    "c = \"3\"\n",
    "d = True"
   ]
  },
  {
   "cell_type": "code",
   "execution_count": 8,
   "id": "deda5a35",
   "metadata": {},
   "outputs": [
    {
     "name": "stdout",
     "output_type": "stream",
     "text": [
      "1\n",
      "2.0\n",
      "3\n",
      "True\n"
     ]
    }
   ],
   "source": [
    "print(a)\n",
    "print(b)\n",
    "print(c)\n",
    "print(d)"
   ]
  },
  {
   "cell_type": "code",
   "execution_count": 9,
   "id": "ecb30e6d",
   "metadata": {},
   "outputs": [
    {
     "name": "stdout",
     "output_type": "stream",
     "text": [
      "<class 'int'>\n",
      "<class 'float'>\n",
      "<class 'str'>\n",
      "<class 'bool'>\n"
     ]
    }
   ],
   "source": [
    "print(type(a))\n",
    "print(type(b))\n",
    "print(type(c))\n",
    "print(type(d))"
   ]
  },
  {
   "cell_type": "code",
   "execution_count": 10,
   "id": "1bde23a0",
   "metadata": {},
   "outputs": [],
   "source": [
    "a = str(a)\n",
    "b = str(b)\n",
    "d = str(d)"
   ]
  },
  {
   "cell_type": "code",
   "execution_count": 11,
   "id": "5a571c55",
   "metadata": {},
   "outputs": [
    {
     "name": "stdout",
     "output_type": "stream",
     "text": [
      "<class 'str'>\n",
      "<class 'str'>\n",
      "<class 'str'>\n",
      "<class 'str'>\n"
     ]
    }
   ],
   "source": [
    "print(type(a))\n",
    "print(type(b))\n",
    "print(type(c))\n",
    "print(type(d))"
   ]
  },
  {
   "cell_type": "code",
   "execution_count": 12,
   "id": "d9ac7294",
   "metadata": {},
   "outputs": [
    {
     "name": "stdout",
     "output_type": "stream",
     "text": [
      "1\n",
      "2.0\n",
      "3\n",
      "True\n"
     ]
    }
   ],
   "source": [
    "print(a)\n",
    "print(b)\n",
    "print(c)\n",
    "print(d)"
   ]
  }
 ],
 "metadata": {
  "kernelspec": {
   "display_name": "Python 3 (ipykernel)",
   "language": "python",
   "name": "python3"
  },
  "language_info": {
   "codemirror_mode": {
    "name": "ipython",
    "version": 3
   },
   "file_extension": ".py",
   "mimetype": "text/x-python",
   "name": "python",
   "nbconvert_exporter": "python",
   "pygments_lexer": "ipython3",
   "version": "3.9.12"
  }
 },
 "nbformat": 4,
 "nbformat_minor": 5
}
