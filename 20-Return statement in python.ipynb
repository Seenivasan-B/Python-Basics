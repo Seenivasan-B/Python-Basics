{
 "cells": [
  {
   "cell_type": "markdown",
   "id": "454bb7a4",
   "metadata": {},
   "source": [
    "# 20-Return statement in python"
   ]
  },
  {
   "cell_type": "markdown",
   "id": "f06fb719",
   "metadata": {},
   "source": [
    "functions send python values/objects back to the caller."
   ]
  },
  {
   "cell_type": "markdown",
   "id": "c0f25b5a",
   "metadata": {},
   "source": [
    "these values/objects are known as the function's return values"
   ]
  },
  {
   "cell_type": "markdown",
   "id": "8fa388b4",
   "metadata": {},
   "source": [
    "#### multiplying 2 numbers"
   ]
  },
  {
   "cell_type": "code",
   "execution_count": 1,
   "id": "8434a2a3",
   "metadata": {},
   "outputs": [
    {
     "name": "stdout",
     "output_type": "stream",
     "text": [
      "48\n"
     ]
    }
   ],
   "source": [
    "def multiply(number1,number2):\n",
    "  result = number1 * number2\n",
    "  return result\n",
    "print(multiply(6,8))"
   ]
  },
  {
   "cell_type": "code",
   "execution_count": 2,
   "id": "f8f1f24b",
   "metadata": {},
   "outputs": [
    {
     "name": "stdout",
     "output_type": "stream",
     "text": [
      "48\n"
     ]
    }
   ],
   "source": [
    "def multiply(number1,number2):\n",
    "  result = number1 * number2\n",
    "  return result\n",
    "x = multiply(6,8)\n",
    "print(x)"
   ]
  },
  {
   "cell_type": "code",
   "execution_count": 3,
   "id": "3ffc521d",
   "metadata": {},
   "outputs": [
    {
     "name": "stdout",
     "output_type": "stream",
     "text": [
      "48\n"
     ]
    }
   ],
   "source": [
    "def multiply(number1,number2):\n",
    "   return number1 * number2\n",
    "x = multiply(6,8)\n",
    "print(x)"
   ]
  }
 ],
 "metadata": {
  "kernelspec": {
   "display_name": "Python 3 (ipykernel)",
   "language": "python",
   "name": "python3"
  },
  "language_info": {
   "codemirror_mode": {
    "name": "ipython",
    "version": 3
   },
   "file_extension": ".py",
   "mimetype": "text/x-python",
   "name": "python",
   "nbconvert_exporter": "python",
   "pygments_lexer": "ipython3",
   "version": "3.9.12"
  }
 },
 "nbformat": 4,
 "nbformat_minor": 5
}
