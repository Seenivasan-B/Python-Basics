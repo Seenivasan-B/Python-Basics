{
 "cells": [
  {
   "cell_type": "markdown",
   "id": "a2e7d85e",
   "metadata": {},
   "source": [
    "# 19-Functions in python"
   ]
  },
  {
   "cell_type": "markdown",
   "id": "3db6a1ed",
   "metadata": {},
   "source": [
    "Function is a block of code which is executed only when its called."
   ]
  },
  {
   "cell_type": "markdown",
   "id": "ece4178d",
   "metadata": {},
   "source": [
    "#### Using function to print a statement"
   ]
  },
  {
   "cell_type": "code",
   "execution_count": 1,
   "id": "140bade9",
   "metadata": {},
   "outputs": [
    {
     "name": "stdout",
     "output_type": "stream",
     "text": [
      "Arnold\n"
     ]
    }
   ],
   "source": [
    "def name():             #defining a function\n",
    "    print('Arnold')\n",
    "\n",
    "name()                  #calling a function"
   ]
  },
  {
   "cell_type": "markdown",
   "id": "6280b3ed",
   "metadata": {},
   "source": [
    "Since function is a block of code we can have multiple print statements"
   ]
  },
  {
   "cell_type": "code",
   "execution_count": 2,
   "id": "b4de1884",
   "metadata": {},
   "outputs": [
    {
     "name": "stdout",
     "output_type": "stream",
     "text": [
      "Hello Arnold\n",
      "Have a nice day!\n"
     ]
    }
   ],
   "source": [
    "def name():\n",
    "    print(\"Hello Arnold\")\n",
    "    print(\"Have a nice day!\")\n",
    "name()"
   ]
  },
  {
   "cell_type": "markdown",
   "id": "ccab192f",
   "metadata": {},
   "source": [
    "name(\"Arnold\")"
   ]
  },
  {
   "cell_type": "markdown",
   "id": "63d26e89",
   "metadata": {},
   "source": [
    "Here we give data to a function it is called as arguments"
   ]
  },
  {
   "cell_type": "markdown",
   "id": "4942e0b1",
   "metadata": {},
   "source": [
    "Example of argument = \"Arnold\""
   ]
  },
  {
   "cell_type": "markdown",
   "id": "ff1bfd94",
   "metadata": {},
   "source": [
    "To give a data to a function (argument) we need to set parameters."
   ]
  },
  {
   "cell_type": "markdown",
   "id": "d2c55158",
   "metadata": {},
   "source": [
    "ex : def name(first_name):"
   ]
  },
  {
   "cell_type": "markdown",
   "id": "77350b08",
   "metadata": {},
   "source": [
    "Here name is a parameter"
   ]
  },
  {
   "cell_type": "code",
   "execution_count": 3,
   "id": "e216c259",
   "metadata": {},
   "outputs": [
    {
     "name": "stdout",
     "output_type": "stream",
     "text": [
      "Hello Arnold\n",
      "Have a nice day!\n"
     ]
    }
   ],
   "source": [
    "def name(first_name):\n",
    "    print(\"Hello \"+ first_name)\n",
    "    print(\"Have a nice day!\")\n",
    "name('Arnold')"
   ]
  },
  {
   "cell_type": "code",
   "execution_count": 4,
   "id": "86d72d8e",
   "metadata": {},
   "outputs": [
    {
     "name": "stdout",
     "output_type": "stream",
     "text": [
      "Hello Arnold\n",
      "Have a nice day!\n"
     ]
    }
   ],
   "source": [
    "def name(first_name):\n",
    "    print(\"Hello \"+ first_name)\n",
    "    print(\"Have a nice day!\")\n",
    "first_name = 'Arnold'\n",
    "name(first_name)"
   ]
  },
  {
   "cell_type": "code",
   "execution_count": 5,
   "id": "11559a1c",
   "metadata": {},
   "outputs": [
    {
     "name": "stdout",
     "output_type": "stream",
     "text": [
      "Hello Arnold\n",
      "Have a nice day!\n"
     ]
    }
   ],
   "source": [
    "def name(first_name):\n",
    "    print(\"Hello \"+ first_name)\n",
    "    print(\"Have a nice day!\")\n",
    "my_name = 'Arnold'\n",
    "name(my_name)"
   ]
  },
  {
   "cell_type": "markdown",
   "id": "a063390e",
   "metadata": {},
   "source": [
    "#### Using multiple arguments"
   ]
  },
  {
   "cell_type": "code",
   "execution_count": 6,
   "id": "9830a4c1",
   "metadata": {},
   "outputs": [
    {
     "name": "stdout",
     "output_type": "stream",
     "text": [
      "Hello Arnold Schwarzenegger\n",
      "Have a nice day!\n"
     ]
    }
   ],
   "source": [
    "def name(first_name,last_name):\n",
    "    print(\"Hello \"+ first_name+\" \"+last_name)\n",
    "    print(\"Have a nice day!\")\n",
    "name('Arnold', 'Schwarzenegger')"
   ]
  },
  {
   "cell_type": "code",
   "execution_count": 7,
   "id": "0cc3f0b1",
   "metadata": {},
   "outputs": [
    {
     "name": "stdout",
     "output_type": "stream",
     "text": [
      "Hello Arnold schwarzenegger\n",
      "You are 75 Years old\n",
      "Have a nice day!\n"
     ]
    }
   ],
   "source": [
    "def name(first_name,last_name,age):\n",
    "    print(\"Hello \"+ first_name+ \" \"+last_name)\n",
    "    print(\"You are \"+str(age)+ \" Years old\")\n",
    "    print(\"Have a nice day!\")\n",
    "name('Arnold','schwarzenegger',75)"
   ]
  }
 ],
 "metadata": {
  "kernelspec": {
   "display_name": "Python 3 (ipykernel)",
   "language": "python",
   "name": "python3"
  },
  "language_info": {
   "codemirror_mode": {
    "name": "ipython",
    "version": 3
   },
   "file_extension": ".py",
   "mimetype": "text/x-python",
   "name": "python",
   "nbconvert_exporter": "python",
   "pygments_lexer": "ipython3",
   "version": "3.9.12"
  }
 },
 "nbformat": 4,
 "nbformat_minor": 5
}
