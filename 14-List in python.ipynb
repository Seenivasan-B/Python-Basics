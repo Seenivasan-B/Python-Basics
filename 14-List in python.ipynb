{
 "cells": [
  {
   "cell_type": "markdown",
   "id": "ec0fbe96",
   "metadata": {},
   "source": [
    "# 14-List in python"
   ]
  },
  {
   "cell_type": "markdown",
   "id": "196456ef",
   "metadata": {},
   "source": [
    "Used to store multiple items in a single variable."
   ]
  },
  {
   "cell_type": "markdown",
   "id": "4832eaa1",
   "metadata": {},
   "source": [
    "In list we can update/change the program after it’s been created later in the program"
   ]
  },
  {
   "cell_type": "markdown",
   "id": "7f429d79",
   "metadata": {},
   "source": [
    "### Indexing a list"
   ]
  },
  {
   "cell_type": "code",
   "execution_count": 1,
   "id": "c18b2ea5",
   "metadata": {},
   "outputs": [
    {
     "name": "stdout",
     "output_type": "stream",
     "text": [
      "['pizza', 'hamburger', 'hotdog', 'spaghetti']\n",
      "hotdog\n"
     ]
    }
   ],
   "source": [
    "food = [\"pizza\",\"hamburger\",\"hotdog\",\"spaghetti\"]\n",
    "print(food)\n",
    "print(food[2])"
   ]
  },
  {
   "cell_type": "markdown",
   "id": "f5b2243a",
   "metadata": {},
   "source": [
    "### Updating a list"
   ]
  },
  {
   "cell_type": "code",
   "execution_count": 2,
   "id": "60d4e62a",
   "metadata": {},
   "outputs": [
    {
     "name": "stdout",
     "output_type": "stream",
     "text": [
      "['sushi', 'hamburger', 'hotdog', 'spaghetti']\n"
     ]
    }
   ],
   "source": [
    "food = [\"pizza\",\"hamburger\",\"hotdog\",\"spaghetti\"]\n",
    "food[0] = \"sushi\"\n",
    "print(food)"
   ]
  },
  {
   "cell_type": "markdown",
   "id": "d6f14396",
   "metadata": {},
   "source": [
    "Here the first value pizza is updated by sushi"
   ]
  },
  {
   "cell_type": "markdown",
   "id": "c0facc84",
   "metadata": {},
   "source": [
    "### Printing all the components inside a list using for loop"
   ]
  },
  {
   "cell_type": "code",
   "execution_count": 3,
   "id": "4c4c62d6",
   "metadata": {},
   "outputs": [
    {
     "name": "stdout",
     "output_type": "stream",
     "text": [
      "pizza\n",
      "hamburger\n",
      "hotdog\n",
      "spaghetti\n"
     ]
    }
   ],
   "source": [
    "food = [\"pizza\",\"hamburger\",\"hotdog\",\"spaghetti\"]\n",
    "\n",
    "for x in food:\n",
    "  print(x)"
   ]
  },
  {
   "cell_type": "markdown",
   "id": "e1385700",
   "metadata": {},
   "source": [
    "## Useful functions in list"
   ]
  },
  {
   "cell_type": "markdown",
   "id": "1811dcf3",
   "metadata": {},
   "source": [
    "#### Append - to add a data to the list at the end"
   ]
  },
  {
   "cell_type": "code",
   "execution_count": 4,
   "id": "d5a11bed",
   "metadata": {},
   "outputs": [
    {
     "name": "stdout",
     "output_type": "stream",
     "text": [
      "['pizza', 'hamburger', 'hotdog', 'spaghetti', 'icecream']\n"
     ]
    }
   ],
   "source": [
    "food = [\"pizza\",\"hamburger\",\"hotdog\",\"spaghetti\"]\n",
    "food.append(\"icecream\")\n",
    "print(food)"
   ]
  },
  {
   "cell_type": "markdown",
   "id": "bc7fee44",
   "metadata": {},
   "source": [
    "#### Remove - to remove a data inside a list"
   ]
  },
  {
   "cell_type": "code",
   "execution_count": 5,
   "id": "5e766a28",
   "metadata": {},
   "outputs": [
    {
     "name": "stdout",
     "output_type": "stream",
     "text": [
      "['pizza', 'hamburger', 'spaghetti']\n"
     ]
    }
   ],
   "source": [
    "food = [\"pizza\",\"hamburger\",\"hotdog\",\"spaghetti\"]\n",
    "food.remove(\"hotdog\")\n",
    "print(food)"
   ]
  },
  {
   "cell_type": "markdown",
   "id": "79475abb",
   "metadata": {},
   "source": [
    "#### Pop - To remove the last data of the list"
   ]
  },
  {
   "cell_type": "code",
   "execution_count": 6,
   "id": "6537985e",
   "metadata": {},
   "outputs": [
    {
     "name": "stdout",
     "output_type": "stream",
     "text": [
      "['pizza', 'hamburger', 'hotdog']\n"
     ]
    }
   ],
   "source": [
    "food = [\"pizza\",\"hamburger\",\"hotdog\",\"spaghetti\"]\n",
    "food.pop()\n",
    "print(food)"
   ]
  },
  {
   "cell_type": "markdown",
   "id": "64032241",
   "metadata": {},
   "source": [
    "#### Insert - To insert a data at a specified index"
   ]
  },
  {
   "cell_type": "code",
   "execution_count": 7,
   "id": "f61e1242",
   "metadata": {},
   "outputs": [
    {
     "name": "stdout",
     "output_type": "stream",
     "text": [
      "['cake', 'pizza', 'hamburger', 'hotdog', 'spaghetti']\n"
     ]
    }
   ],
   "source": [
    "food = [\"pizza\",\"hamburger\",\"hotdog\",\"spaghetti\"]\n",
    "food.insert(0,\"cake\")\n",
    "print(food)"
   ]
  },
  {
   "cell_type": "markdown",
   "id": "9c1001cc",
   "metadata": {},
   "source": [
    "#### Sort - To sort the list in ascending or descending order"
   ]
  },
  {
   "cell_type": "code",
   "execution_count": 8,
   "id": "1e826ef2",
   "metadata": {},
   "outputs": [
    {
     "name": "stdout",
     "output_type": "stream",
     "text": [
      "['hamburger', 'hotdog', 'pizza', 'spaghetti']\n"
     ]
    }
   ],
   "source": [
    "#Ascending order\n",
    "food = [\"pizza\",\"hamburger\",\"hotdog\",\"spaghetti\"]\n",
    "food.sort()\n",
    "print(food)"
   ]
  },
  {
   "cell_type": "code",
   "execution_count": 9,
   "id": "72b956c0",
   "metadata": {},
   "outputs": [
    {
     "name": "stdout",
     "output_type": "stream",
     "text": [
      "['spaghetti', 'pizza', 'hotdog', 'hamburger']\n"
     ]
    }
   ],
   "source": [
    "#descending order\n",
    "food = [\"pizza\",\"hamburger\",\"hotdog\",\"spaghetti\"]\n",
    "food.sort(reverse=True)\n",
    "print(food)"
   ]
  },
  {
   "cell_type": "markdown",
   "id": "aae72c40",
   "metadata": {},
   "source": [
    "#### Clear = To clear all the data inside the list"
   ]
  },
  {
   "cell_type": "code",
   "execution_count": 10,
   "id": "a1059455",
   "metadata": {},
   "outputs": [
    {
     "name": "stdout",
     "output_type": "stream",
     "text": [
      "[]\n"
     ]
    }
   ],
   "source": [
    "food = [\"pizza\",\"hamburger\",\"hotdog\",\"spaghetti\"]\n",
    "food.clear()\n",
    "print(food)"
   ]
  },
  {
   "cell_type": "markdown",
   "id": "9db55e76",
   "metadata": {},
   "source": [
    "## 2D list or multidimensional list"
   ]
  },
  {
   "cell_type": "markdown",
   "id": "460f3597",
   "metadata": {},
   "source": [
    "A list of lists"
   ]
  },
  {
   "cell_type": "code",
   "execution_count": 11,
   "id": "727734de",
   "metadata": {},
   "outputs": [
    {
     "name": "stdout",
     "output_type": "stream",
     "text": [
      "[['coffee', 'soda', 'tea'], ['pizza', 'hamburger', 'hotdog'], ['cake', 'icecream']]\n",
      "['coffee', 'soda', 'tea']\n",
      "hotdog\n"
     ]
    }
   ],
   "source": [
    "drinks = [\"coffee\",\"soda\",\"tea\"]\n",
    "dinner = [\"pizza\",\"hamburger\",\"hotdog\"]\n",
    "dessert = [\"cake\",\"icecream\"]\n",
    "\n",
    "food = [drinks,dinner,dessert]\n",
    "print(food)\n",
    "print(food[0])\n",
    "print(food[1][2])"
   ]
  },
  {
   "cell_type": "markdown",
   "id": "33c1e751",
   "metadata": {},
   "source": [
    "Here its a 2 dimensional array and to index an element inside we need to use 2 square bracket."
   ]
  }
 ],
 "metadata": {
  "kernelspec": {
   "display_name": "Python 3 (ipykernel)",
   "language": "python",
   "name": "python3"
  },
  "language_info": {
   "codemirror_mode": {
    "name": "ipython",
    "version": 3
   },
   "file_extension": ".py",
   "mimetype": "text/x-python",
   "name": "python",
   "nbconvert_exporter": "python",
   "pygments_lexer": "ipython3",
   "version": "3.9.12"
  }
 },
 "nbformat": 4,
 "nbformat_minor": 5
}
