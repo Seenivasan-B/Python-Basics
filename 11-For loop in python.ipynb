{
 "cells": [
  {
   "cell_type": "markdown",
   "id": "f2d74092",
   "metadata": {},
   "source": [
    "# 11-For loop in python"
   ]
  },
  {
   "cell_type": "markdown",
   "id": "43ba9f67",
   "metadata": {},
   "source": [
    "A statement that will execute its block of code a limited amount of times."
   ]
  },
  {
   "cell_type": "markdown",
   "id": "e8c06778",
   "metadata": {},
   "source": [
    "while loop - unlimited"
   ]
  },
  {
   "cell_type": "markdown",
   "id": "2e558fa5",
   "metadata": {},
   "source": [
    "for loop - limited"
   ]
  },
  {
   "cell_type": "markdown",
   "id": "8448c8a6",
   "metadata": {},
   "source": [
    "i - represents index"
   ]
  },
  {
   "cell_type": "markdown",
   "id": "74972f5b",
   "metadata": {},
   "source": [
    "Here in place of (i) we can use any letter or even a word"
   ]
  },
  {
   "cell_type": "markdown",
   "id": "2d6ba768",
   "metadata": {},
   "source": [
    "### To print 10 numbers"
   ]
  },
  {
   "cell_type": "code",
   "execution_count": 1,
   "id": "22b0d153",
   "metadata": {},
   "outputs": [
    {
     "name": "stdout",
     "output_type": "stream",
     "text": [
      "0\n",
      "1\n",
      "2\n",
      "3\n",
      "4\n",
      "5\n",
      "6\n",
      "7\n",
      "8\n",
      "9\n"
     ]
    }
   ],
   "source": [
    "for i in range(10):\n",
    "    print(i)"
   ]
  },
  {
   "cell_type": "markdown",
   "id": "e7c25c7e",
   "metadata": {},
   "source": [
    "#### Here the range function can take 3 inputs start,stop,step."
   ]
  },
  {
   "cell_type": "code",
   "execution_count": 2,
   "id": "30eb88a8",
   "metadata": {},
   "outputs": [
    {
     "name": "stdout",
     "output_type": "stream",
     "text": [
      "0\n",
      "1\n",
      "2\n",
      "3\n",
      "4\n",
      "5\n",
      "6\n",
      "7\n",
      "8\n",
      "9\n"
     ]
    }
   ],
   "source": [
    "for i in range(0,10):\n",
    "    print(i)"
   ]
  },
  {
   "cell_type": "code",
   "execution_count": 3,
   "id": "ab35da29",
   "metadata": {},
   "outputs": [
    {
     "name": "stdout",
     "output_type": "stream",
     "text": [
      "0\n",
      "1\n",
      "2\n",
      "3\n",
      "4\n",
      "5\n",
      "6\n",
      "7\n",
      "8\n",
      "9\n"
     ]
    }
   ],
   "source": [
    "for i in range(0,10,1):\n",
    "    print(i)"
   ]
  },
  {
   "cell_type": "markdown",
   "id": "a4d99fed",
   "metadata": {},
   "source": [
    "### To print the numbers from 1 to 10"
   ]
  },
  {
   "cell_type": "code",
   "execution_count": 4,
   "id": "abf17e7c",
   "metadata": {},
   "outputs": [
    {
     "name": "stdout",
     "output_type": "stream",
     "text": [
      "1\n",
      "2\n",
      "3\n",
      "4\n",
      "5\n",
      "6\n",
      "7\n",
      "8\n",
      "9\n",
      "10\n"
     ]
    }
   ],
   "source": [
    "for i in range(1,11,1):\n",
    "    print(i)"
   ]
  },
  {
   "cell_type": "markdown",
   "id": "47b650f9",
   "metadata": {},
   "source": [
    "##### Here we used 11 as input to print upto 10 \n"
   ]
  },
  {
   "cell_type": "markdown",
   "id": "2c0394fd",
   "metadata": {},
   "source": [
    "##### Start - inclusive"
   ]
  },
  {
   "cell_type": "markdown",
   "id": "6652ba2c",
   "metadata": {},
   "source": [
    "##### Stop - exclusive"
   ]
  },
  {
   "cell_type": "markdown",
   "id": "29be1766",
   "metadata": {},
   "source": [
    "### To print only even numbers from 0 to 20"
   ]
  },
  {
   "cell_type": "code",
   "execution_count": 5,
   "id": "08300566",
   "metadata": {},
   "outputs": [
    {
     "name": "stdout",
     "output_type": "stream",
     "text": [
      "0\n",
      "2\n",
      "4\n",
      "6\n",
      "8\n",
      "10\n",
      "12\n",
      "14\n",
      "16\n",
      "18\n",
      "20\n"
     ]
    }
   ],
   "source": [
    "for i in range(0,21,2):\n",
    "    print(i)"
   ]
  },
  {
   "cell_type": "markdown",
   "id": "eedc34f1",
   "metadata": {},
   "source": [
    "### To print a word or words letter by letter"
   ]
  },
  {
   "cell_type": "code",
   "execution_count": 6,
   "id": "6f0fc2c2",
   "metadata": {},
   "outputs": [
    {
     "name": "stdout",
     "output_type": "stream",
     "text": [
      "A\n",
      "r\n",
      "n\n",
      "o\n",
      "l\n",
      "d\n",
      " \n",
      "S\n",
      "c\n",
      "h\n",
      "w\n",
      "a\n",
      "r\n",
      "z\n",
      "e\n",
      "n\n",
      "e\n",
      "g\n",
      "g\n",
      "e\n",
      "r\n"
     ]
    }
   ],
   "source": [
    "Name = 'Arnold Schwarzenegger'\n",
    "for i in Name:\n",
    "    print(i)"
   ]
  },
  {
   "cell_type": "markdown",
   "id": "84f9fbc2",
   "metadata": {},
   "source": [
    "### Using time in for loop"
   ]
  },
  {
   "cell_type": "code",
   "execution_count": 7,
   "id": "02d0b8ab",
   "metadata": {},
   "outputs": [],
   "source": [
    "import time"
   ]
  },
  {
   "cell_type": "code",
   "execution_count": 8,
   "id": "725789b5",
   "metadata": {},
   "outputs": [
    {
     "name": "stdout",
     "output_type": "stream",
     "text": [
      "10\n",
      "9\n",
      "8\n",
      "7\n",
      "6\n",
      "5\n",
      "4\n",
      "3\n",
      "2\n",
      "1\n",
      "Happy New Year!\n"
     ]
    }
   ],
   "source": [
    "for i in range(10,0,-1):\n",
    "    print(i)\n",
    "    time.sleep(1)\n",
    "print(\"Happy New Year!\")"
   ]
  }
 ],
 "metadata": {
  "kernelspec": {
   "display_name": "Python 3 (ipykernel)",
   "language": "python",
   "name": "python3"
  },
  "language_info": {
   "codemirror_mode": {
    "name": "ipython",
    "version": 3
   },
   "file_extension": ".py",
   "mimetype": "text/x-python",
   "name": "python",
   "nbconvert_exporter": "python",
   "pygments_lexer": "ipython3",
   "version": "3.9.12"
  }
 },
 "nbformat": 4,
 "nbformat_minor": 5
}
