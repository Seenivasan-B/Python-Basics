{
 "cells": [
  {
   "cell_type": "markdown",
   "id": "db153c74",
   "metadata": {},
   "source": [
    "# 16-Set in python"
   ]
  },
  {
   "cell_type": "markdown",
   "id": "d1eb7269",
   "metadata": {},
   "source": [
    "collection which is unordered, unindexed"
   ]
  },
  {
   "cell_type": "markdown",
   "id": "9020ff0b",
   "metadata": {},
   "source": [
    "no duplicate values are allowed inside."
   ]
  },
  {
   "cell_type": "markdown",
   "id": "013be33c",
   "metadata": {},
   "source": [
    "###### note : A set is faster than a list when we check that a value is present inside and they do not allow any duplicate values."
   ]
  },
  {
   "cell_type": "markdown",
   "id": "4b47efd7",
   "metadata": {},
   "source": [
    "#### To print all the values inside a set using for loop"
   ]
  },
  {
   "cell_type": "code",
   "execution_count": 1,
   "id": "e8e21cc7",
   "metadata": {},
   "outputs": [
    {
     "name": "stdout",
     "output_type": "stream",
     "text": [
      "knife\n",
      "fork\n",
      "spoon\n"
     ]
    }
   ],
   "source": [
    "utensils = {\"fork\",\"spoon\",\"knife\"}\n",
    "for x in utensils:\n",
    "  print(x)"
   ]
  },
  {
   "cell_type": "markdown",
   "id": "80ca09c7",
   "metadata": {},
   "source": [
    "### Useful functions of set"
   ]
  },
  {
   "cell_type": "markdown",
   "id": "542415c2",
   "metadata": {},
   "source": [
    "#### Add"
   ]
  },
  {
   "cell_type": "code",
   "execution_count": 2,
   "id": "f28f50b2",
   "metadata": {},
   "outputs": [
    {
     "name": "stdout",
     "output_type": "stream",
     "text": [
      "{'knife', 'fork', 'spoon', 'napkins'}\n"
     ]
    }
   ],
   "source": [
    "utensils = {\"fork\",\"spoon\",\"knife\"}\n",
    "utensils.add(\"napkins\")\n",
    "print(utensils)"
   ]
  },
  {
   "cell_type": "markdown",
   "id": "3e2b7d16",
   "metadata": {},
   "source": [
    "Since set is unordered the value can be added at any position."
   ]
  },
  {
   "cell_type": "code",
   "execution_count": 3,
   "id": "1b97f7c9",
   "metadata": {},
   "outputs": [
    {
     "name": "stdout",
     "output_type": "stream",
     "text": [
      "{'knife', 'fork', 'spoon', 'napkins'}\n"
     ]
    }
   ],
   "source": [
    "utensils.add(\"napkins\")\n",
    "print(utensils)"
   ]
  },
  {
   "cell_type": "markdown",
   "id": "a24763a0",
   "metadata": {},
   "source": [
    "Here if we try to add a same element inside a set it will not allow duplicate values."
   ]
  },
  {
   "cell_type": "markdown",
   "id": "0c2ed87c",
   "metadata": {},
   "source": [
    "#### Remove"
   ]
  },
  {
   "cell_type": "markdown",
   "id": "fb0a857e",
   "metadata": {},
   "source": [
    "To remove a value from a set"
   ]
  },
  {
   "cell_type": "code",
   "execution_count": 4,
   "id": "540f8bbb",
   "metadata": {},
   "outputs": [
    {
     "name": "stdout",
     "output_type": "stream",
     "text": [
      "{'knife', 'spoon'}\n"
     ]
    }
   ],
   "source": [
    "utensils = {\"fork\",\"spoon\",\"knife\"}\n",
    "utensils.remove(\"fork\")\n",
    "print(utensils)"
   ]
  },
  {
   "cell_type": "markdown",
   "id": "a48dca5e",
   "metadata": {},
   "source": [
    "#### Clear"
   ]
  },
  {
   "cell_type": "markdown",
   "id": "2efe1ff9",
   "metadata": {},
   "source": [
    "To clear the values inside a set"
   ]
  },
  {
   "cell_type": "code",
   "execution_count": 5,
   "id": "b919a1b8",
   "metadata": {},
   "outputs": [
    {
     "name": "stdout",
     "output_type": "stream",
     "text": [
      "set()\n"
     ]
    }
   ],
   "source": [
    "utensils = {\"fork\",\"spoon\",\"knife\"}\n",
    "utensils.clear()\n",
    "print(utensils)"
   ]
  },
  {
   "cell_type": "markdown",
   "id": "a62ad134",
   "metadata": {},
   "source": [
    "Here it removed all the elements inside the set and printed an empty set."
   ]
  },
  {
   "cell_type": "markdown",
   "id": "8932ba3a",
   "metadata": {},
   "source": [
    "#### Update"
   ]
  },
  {
   "cell_type": "markdown",
   "id": "0f309f32",
   "metadata": {},
   "source": [
    "To add a value inside a set into an another set"
   ]
  },
  {
   "cell_type": "code",
   "execution_count": 6,
   "id": "afc24607",
   "metadata": {},
   "outputs": [
    {
     "name": "stdout",
     "output_type": "stream",
     "text": [
      "{'fork', 'plate', 'bowl', 'knife', 'cup', 'spoon'}\n"
     ]
    }
   ],
   "source": [
    "utensils = {\"fork\",\"spoon\",\"knife\"}\n",
    "dishes = {\"bowl\",\"plate\",\"cup\"}\n",
    "utensils.update(dishes)\n",
    "print(utensils)"
   ]
  },
  {
   "cell_type": "markdown",
   "id": "55fad992",
   "metadata": {},
   "source": [
    "Here we combined the values of 2 set into the 1st set"
   ]
  },
  {
   "cell_type": "markdown",
   "id": "6d974839",
   "metadata": {},
   "source": [
    "#### Union"
   ]
  },
  {
   "cell_type": "markdown",
   "id": "90861ce4",
   "metadata": {},
   "source": [
    "To combine the values inside 2 sets using a third set."
   ]
  },
  {
   "cell_type": "code",
   "execution_count": 7,
   "id": "44065902",
   "metadata": {},
   "outputs": [
    {
     "data": {
      "text/plain": [
       "{'bowl', 'cup', 'fork', 'knife', 'plate', 'spoon'}"
      ]
     },
     "execution_count": 7,
     "metadata": {},
     "output_type": "execute_result"
    }
   ],
   "source": [
    "utensils = {\"fork\",\"spoon\",\"knife\"}\n",
    "dishes = {\"bowl\",\"plate\",\"cup\"}\n",
    "\n",
    "dinner_table = utensils.union(dishes)\n",
    "dinner_table"
   ]
  },
  {
   "cell_type": "markdown",
   "id": "557f140d",
   "metadata": {},
   "source": [
    "#### Difference"
   ]
  },
  {
   "cell_type": "markdown",
   "id": "e8c28039",
   "metadata": {},
   "source": [
    "To get the values from 1st set that are not in set2."
   ]
  },
  {
   "cell_type": "code",
   "execution_count": 8,
   "id": "2fe8a97c",
   "metadata": {},
   "outputs": [
    {
     "data": {
      "text/plain": [
       "{'fork', 'spoon'}"
      ]
     },
     "execution_count": 8,
     "metadata": {},
     "output_type": "execute_result"
    }
   ],
   "source": [
    "utensils = {\"fork\",\"spoon\",\"knife\"}\n",
    "dishes = {\"bowl\",\"plate\",\"cup\",\"knife\"}\n",
    "utensils.difference(dishes)"
   ]
  },
  {
   "cell_type": "code",
   "execution_count": 9,
   "id": "4829f141",
   "metadata": {},
   "outputs": [
    {
     "data": {
      "text/plain": [
       "{'bowl', 'cup', 'plate'}"
      ]
     },
     "execution_count": 9,
     "metadata": {},
     "output_type": "execute_result"
    }
   ],
   "source": [
    "dishes.difference(utensils)"
   ]
  },
  {
   "cell_type": "markdown",
   "id": "cad8dc5f",
   "metadata": {},
   "source": [
    "Here knife is the common element for both set. So it removed knife from the output."
   ]
  },
  {
   "cell_type": "markdown",
   "id": "c9dd08da",
   "metadata": {},
   "source": [
    "Here the output will subtract the values inside the variable that we entered inside paranthesis and will output the remaining values in the other variable."
   ]
  },
  {
   "cell_type": "markdown",
   "id": "9eaf5888",
   "metadata": {},
   "source": [
    "#### Intersection"
   ]
  },
  {
   "cell_type": "markdown",
   "id": "3bdf729e",
   "metadata": {},
   "source": [
    "To get the common element out of 2 sets."
   ]
  },
  {
   "cell_type": "code",
   "execution_count": 10,
   "id": "0b60e521",
   "metadata": {},
   "outputs": [
    {
     "data": {
      "text/plain": [
       "{'knife'}"
      ]
     },
     "execution_count": 10,
     "metadata": {},
     "output_type": "execute_result"
    }
   ],
   "source": [
    "utensils = {\"fork\",\"spoon\",\"knife\"}\n",
    "dishes = {\"bowl\",\"plate\",\"cup\",\"knife\"}\n",
    "utensils.intersection(dishes)"
   ]
  }
 ],
 "metadata": {
  "kernelspec": {
   "display_name": "Python 3 (ipykernel)",
   "language": "python",
   "name": "python3"
  },
  "language_info": {
   "codemirror_mode": {
    "name": "ipython",
    "version": 3
   },
   "file_extension": ".py",
   "mimetype": "text/x-python",
   "name": "python",
   "nbconvert_exporter": "python",
   "pygments_lexer": "ipython3",
   "version": "3.9.12"
  }
 },
 "nbformat": 4,
 "nbformat_minor": 5
}
