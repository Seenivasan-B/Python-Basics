{
 "cells": [
  {
   "cell_type": "markdown",
   "id": "03256ec0",
   "metadata": {},
   "source": [
    "# 23-Scope in python"
   ]
  },
  {
   "cell_type": "markdown",
   "id": "c488d4c4",
   "metadata": {},
   "source": [
    "The region that a variable is recognized"
   ]
  },
  {
   "cell_type": "markdown",
   "id": "2982603b",
   "metadata": {},
   "source": [
    "A variable is only available from inside the region it is created"
   ]
  },
  {
   "cell_type": "markdown",
   "id": "b7c8038b",
   "metadata": {},
   "source": [
    "A global and local scope versions of a variable can be created"
   ]
  },
  {
   "cell_type": "code",
   "execution_count": 1,
   "id": "7f4850b3",
   "metadata": {},
   "outputs": [
    {
     "name": "stdout",
     "output_type": "stream",
     "text": [
      "Thomas\n",
      "Arnold\n"
     ]
    }
   ],
   "source": [
    "name = \"Arnold\" #global scope(available inside and outside function)\n",
    "\n",
    "def first_name():\n",
    "    name = \"Thomas\" #local scope(available only inside this function)\n",
    "    print(name)\n",
    "first_name()\n",
    "print(name)"
   ]
  },
  {
   "cell_type": "code",
   "execution_count": 2,
   "id": "2e7118c6",
   "metadata": {},
   "outputs": [
    {
     "name": "stdout",
     "output_type": "stream",
     "text": [
      "Arnold\n",
      "Arnold\n"
     ]
    }
   ],
   "source": [
    "name = \"Arnold\" #global scope(available inside and outside function)\n",
    "\n",
    "def first_name():\n",
    "    print(name)\n",
    "first_name()\n",
    "print(name)"
   ]
  },
  {
   "cell_type": "markdown",
   "id": "ff8ffecb",
   "metadata": {},
   "source": [
    "### Order of calling in python"
   ]
  },
  {
   "cell_type": "markdown",
   "id": "5a496fd2",
   "metadata": {},
   "source": [
    " #### 1. L - Local"
   ]
  },
  {
   "cell_type": "markdown",
   "id": "a9c7e4b5",
   "metadata": {},
   "source": [
    "#### 2. E - Enclosing"
   ]
  },
  {
   "cell_type": "markdown",
   "id": "28d74374",
   "metadata": {},
   "source": [
    "#### 3. G - Global"
   ]
  },
  {
   "cell_type": "markdown",
   "id": "b8904fa2",
   "metadata": {},
   "source": [
    "####  4. B - Built-in"
   ]
  }
 ],
 "metadata": {
  "kernelspec": {
   "display_name": "Python 3 (ipykernel)",
   "language": "python",
   "name": "python3"
  },
  "language_info": {
   "codemirror_mode": {
    "name": "ipython",
    "version": 3
   },
   "file_extension": ".py",
   "mimetype": "text/x-python",
   "name": "python",
   "nbconvert_exporter": "python",
   "pygments_lexer": "ipython3",
   "version": "3.9.12"
  }
 },
 "nbformat": 4,
 "nbformat_minor": 5
}
