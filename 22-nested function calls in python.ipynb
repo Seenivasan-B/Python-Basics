{
 "cells": [
  {
   "cell_type": "markdown",
   "id": "f0c1d884",
   "metadata": {},
   "source": [
    "# 22-nested function calls in python"
   ]
  },
  {
   "cell_type": "markdown",
   "id": "17dbe378",
   "metadata": {},
   "source": [
    "Function calls inside other function calls"
   ]
  },
  {
   "cell_type": "markdown",
   "id": "2c838012",
   "metadata": {},
   "source": [
    "inner most function calls are resolved first"
   ]
  },
  {
   "cell_type": "markdown",
   "id": "74204a26",
   "metadata": {},
   "source": [
    "return value is used as argument for the next outer function"
   ]
  },
  {
   "cell_type": "code",
   "execution_count": 1,
   "id": "979fdb80",
   "metadata": {},
   "outputs": [
    {
     "name": "stdout",
     "output_type": "stream",
     "text": [
      "Enter a number of choice : -123.456\n",
      "123\n"
     ]
    }
   ],
   "source": [
    "a = input(\"Enter a number of choice : \")\n",
    "a = float(a)\n",
    "a = abs(a)\n",
    "a = round(a)\n",
    "print(a)"
   ]
  },
  {
   "cell_type": "markdown",
   "id": "7e85a037",
   "metadata": {},
   "source": [
    "Here we can do the same thing using single line of code"
   ]
  },
  {
   "cell_type": "code",
   "execution_count": 2,
   "id": "4992f3f2",
   "metadata": {},
   "outputs": [
    {
     "name": "stdout",
     "output_type": "stream",
     "text": [
      "Enter a number of choice : -123.456\n",
      "123\n"
     ]
    }
   ],
   "source": [
    "print(round(abs(float(input(\"Enter a number of choice : \")))))"
   ]
  }
 ],
 "metadata": {
  "kernelspec": {
   "display_name": "Python 3 (ipykernel)",
   "language": "python",
   "name": "python3"
  },
  "language_info": {
   "codemirror_mode": {
    "name": "ipython",
    "version": 3
   },
   "file_extension": ".py",
   "mimetype": "text/x-python",
   "name": "python",
   "nbconvert_exporter": "python",
   "pygments_lexer": "ipython3",
   "version": "3.9.12"
  }
 },
 "nbformat": 4,
 "nbformat_minor": 5
}
