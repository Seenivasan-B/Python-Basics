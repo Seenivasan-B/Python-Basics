{
 "cells": [
  {
   "cell_type": "markdown",
   "id": "69610203",
   "metadata": {},
   "source": [
    "# 09-Logical operator in python"
   ]
  },
  {
   "cell_type": "markdown",
   "id": "f124abff",
   "metadata": {},
   "source": [
    "AND, OR , NOT - used to check if two or more conditional statements."
   ]
  },
  {
   "cell_type": "code",
   "execution_count": 4,
   "id": "ffc635fc",
   "metadata": {},
   "outputs": [
    {
     "name": "stdout",
     "output_type": "stream",
     "text": [
      "what is the temperature outside? : 40\n",
      "the temprature is bad today!\n",
      "stay inside\n"
     ]
    }
   ],
   "source": [
    "temp = int(input(\"what is the temperature outside? : \"))\n",
    "\n",
    "if temp >=0 and temp <=30:\n",
    "  print(\"the temperature is good today!\")\n",
    "  print(\"go outside\")\n",
    "\n",
    "elif temp <0 or temp >30:\n",
    "  print(\"the temprature is bad today!\")\n",
    "  print(\"stay inside\")"
   ]
  },
  {
   "cell_type": "code",
   "execution_count": 5,
   "id": "24a4352d",
   "metadata": {},
   "outputs": [
    {
     "name": "stdout",
     "output_type": "stream",
     "text": [
      "what is the temperature outside? : 50\n",
      "the temprature is bad today!\n",
      "stay inside\n"
     ]
    }
   ],
   "source": [
    "temp = int(input(\"what is the temperature outside? : \"))\n",
    "\n",
    "if not(temp >=0 and temp <=30):\n",
    "  print(\"the temprature is bad today!\")\n",
    "  print(\"stay inside\")\n",
    "  \n",
    "elif not(temp <0 or temp >30):\n",
    "  print(\"the temperature is good today!\")\n",
    "  print(\"go outside\")"
   ]
  }
 ],
 "metadata": {
  "kernelspec": {
   "display_name": "Python 3 (ipykernel)",
   "language": "python",
   "name": "python3"
  },
  "language_info": {
   "codemirror_mode": {
    "name": "ipython",
    "version": 3
   },
   "file_extension": ".py",
   "mimetype": "text/x-python",
   "name": "python",
   "nbconvert_exporter": "python",
   "pygments_lexer": "ipython3",
   "version": "3.9.12"
  }
 },
 "nbformat": 4,
 "nbformat_minor": 5
}
