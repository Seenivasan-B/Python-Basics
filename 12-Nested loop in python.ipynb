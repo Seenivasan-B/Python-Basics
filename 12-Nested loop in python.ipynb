{
 "cells": [
  {
   "cell_type": "markdown",
   "id": "c7fb146c",
   "metadata": {},
   "source": [
    "# 12-Nested loop in python"
   ]
  },
  {
   "cell_type": "markdown",
   "id": "cc7919e3",
   "metadata": {},
   "source": [
    "the \"inner loop\" will finish all of its iterators before finishing one iteration of the \"outer loop\"."
   ]
  },
  {
   "cell_type": "code",
   "execution_count": 1,
   "id": "d9596492",
   "metadata": {},
   "outputs": [
    {
     "name": "stdout",
     "output_type": "stream",
     "text": [
      "how many rows? :3\n",
      "how many columns? :3\n",
      "enter a symbol to use :*\n",
      "***\n",
      "***\n",
      "***\n"
     ]
    }
   ],
   "source": [
    "rows = int(input(\"how many rows? :\"))\n",
    "columns = int(input(\"how many columns? :\"))\n",
    "symbol = input(\"enter a symbol to use :\")\n",
    "\n",
    "for i in range(rows):\n",
    "  for j in range(columns):\n",
    "    print(symbol,end=\"\")\n",
    "  print()"
   ]
  },
  {
   "cell_type": "markdown",
   "id": "9ba2e488",
   "metadata": {},
   "source": [
    "### To print a nxn identity matrix"
   ]
  },
  {
   "cell_type": "code",
   "execution_count": 14,
   "id": "7f449f8e",
   "metadata": {},
   "outputs": [
    {
     "name": "stdout",
     "output_type": "stream",
     "text": [
      "Enter the order of the unit matrix : 20\n",
      "1000000000000000000\n",
      "0100000000000000000\n",
      "0010000000000000000\n",
      "0001000000000000000\n",
      "0000100000000000000\n",
      "0000010000000000000\n",
      "0000001000000000000\n",
      "0000000100000000000\n",
      "0000000010000000000\n",
      "0000000001000000000\n",
      "0000000000100000000\n",
      "0000000000010000000\n",
      "0000000000001000000\n",
      "0000000000000100000\n",
      "0000000000000010000\n",
      "0000000000000001000\n",
      "0000000000000000100\n",
      "0000000000000000010\n",
      "0000000000000000001\n"
     ]
    }
   ],
   "source": [
    "n = int(input(\"Enter the order of the unit matrix : \"))\n",
    "for i in range(1,n):\n",
    "    for j in range(1,n):\n",
    "        if i==j:\n",
    "            print(1,end=\"\")\n",
    "        else:\n",
    "            print(0,end=\"\")\n",
    "    print()"
   ]
  }
 ],
 "metadata": {
  "kernelspec": {
   "display_name": "Python 3 (ipykernel)",
   "language": "python",
   "name": "python3"
  },
  "language_info": {
   "codemirror_mode": {
    "name": "ipython",
    "version": 3
   },
   "file_extension": ".py",
   "mimetype": "text/x-python",
   "name": "python",
   "nbconvert_exporter": "python",
   "pygments_lexer": "ipython3",
   "version": "3.9.12"
  }
 },
 "nbformat": 4,
 "nbformat_minor": 5
}
