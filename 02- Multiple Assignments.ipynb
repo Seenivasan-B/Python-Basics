{
 "cells": [
  {
   "cell_type": "markdown",
   "id": "a7f852a5",
   "metadata": {},
   "source": [
    "# Multiple Assignments"
   ]
  },
  {
   "cell_type": "markdown",
   "id": "45eec8c1",
   "metadata": {},
   "source": [
    "Multiple assignments allows us to assign multiple variables at the same time in one line of code."
   ]
  },
  {
   "cell_type": "code",
   "execution_count": 2,
   "id": "f68e5c20",
   "metadata": {},
   "outputs": [],
   "source": [
    "name = 'Arnold'\n",
    "age = 22\n",
    "alive = True"
   ]
  },
  {
   "cell_type": "code",
   "execution_count": 3,
   "id": "58d1db6b",
   "metadata": {},
   "outputs": [
    {
     "name": "stdout",
     "output_type": "stream",
     "text": [
      "Arnold\n",
      "22\n",
      "True\n"
     ]
    }
   ],
   "source": [
    "print(name)\n",
    "print(age)\n",
    "print(alive)"
   ]
  },
  {
   "cell_type": "markdown",
   "id": "2e336103",
   "metadata": {},
   "source": [
    "### Using a single line to get the same output"
   ]
  },
  {
   "cell_type": "code",
   "execution_count": 5,
   "id": "8e1c4b03",
   "metadata": {},
   "outputs": [],
   "source": [
    "name , age , alive = 'Arnold',\"22\",True"
   ]
  },
  {
   "cell_type": "code",
   "execution_count": 6,
   "id": "1752e1ca",
   "metadata": {},
   "outputs": [
    {
     "name": "stdout",
     "output_type": "stream",
     "text": [
      "Arnold\n",
      "22\n",
      "True\n"
     ]
    }
   ],
   "source": [
    "print(name)\n",
    "print(age)\n",
    "print(alive)"
   ]
  },
  {
   "cell_type": "markdown",
   "id": "69c782ec",
   "metadata": {},
   "source": [
    "Here it gives the same output as before."
   ]
  },
  {
   "cell_type": "markdown",
   "id": "0f66c165",
   "metadata": {},
   "source": [
    "#### Using a single line print statement"
   ]
  },
  {
   "cell_type": "code",
   "execution_count": 10,
   "id": "7ba9d1e9",
   "metadata": {},
   "outputs": [
    {
     "name": "stdout",
     "output_type": "stream",
     "text": [
      "Arnold 22 True\n"
     ]
    }
   ],
   "source": [
    "print(name,age,alive)"
   ]
  },
  {
   "cell_type": "markdown",
   "id": "b6246c4a",
   "metadata": {},
   "source": [
    "### Assigning a single value to multiple variables"
   ]
  },
  {
   "cell_type": "code",
   "execution_count": 13,
   "id": "4314e4b2",
   "metadata": {},
   "outputs": [],
   "source": [
    "a = b = c = d = 100"
   ]
  },
  {
   "cell_type": "code",
   "execution_count": 14,
   "id": "e9ef4e3e",
   "metadata": {},
   "outputs": [
    {
     "name": "stdout",
     "output_type": "stream",
     "text": [
      "100\n",
      "100\n",
      "100\n",
      "100\n"
     ]
    }
   ],
   "source": [
    "print(a)\n",
    "print(b)\n",
    "print(c)\n",
    "print(d)"
   ]
  },
  {
   "cell_type": "code",
   "execution_count": 17,
   "id": "e28aa4c2",
   "metadata": {},
   "outputs": [
    {
     "name": "stdout",
     "output_type": "stream",
     "text": [
      "100 100 100 100\n"
     ]
    }
   ],
   "source": [
    "print(a,b,c,d)"
   ]
  }
 ],
 "metadata": {
  "kernelspec": {
   "display_name": "Python 3 (ipykernel)",
   "language": "python",
   "name": "python3"
  },
  "language_info": {
   "codemirror_mode": {
    "name": "ipython",
    "version": 3
   },
   "file_extension": ".py",
   "mimetype": "text/x-python",
   "name": "python",
   "nbconvert_exporter": "python",
   "pygments_lexer": "ipython3",
   "version": "3.9.12"
  }
 },
 "nbformat": 4,
 "nbformat_minor": 5
}
